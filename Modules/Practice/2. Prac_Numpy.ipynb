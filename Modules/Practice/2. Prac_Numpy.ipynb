{
 "cells": [
  {
   "cell_type": "markdown",
   "metadata": {},
   "source": [
    "# NumPy Exercises"
   ]
  },
  {
   "cell_type": "markdown",
   "metadata": {},
   "source": [
    "Reference for some of these exercises is [here](https://www.w3resource.com/python-exercises/)."
   ]
  },
  {
   "cell_type": "markdown",
   "metadata": {},
   "source": [
    "**Exercise 1:** Write a NumPy program to create a random array with 100 real-valued elements between 1 & 5 and compute the following for this array rounded to 2 decimal places:\n",
    "- average (that is, the sample mean)\n",
    "- population variance and population standard deviation (default option in NumPy)\n",
    "- sample variance and sample standard deviation\n",
    "\n",
    "**Hint:** For sample variance and sample standard deviation, use the `ddof=1` parameter value."
   ]
  },
  {
   "cell_type": "code",
   "execution_count": 1,
   "metadata": {},
   "outputs": [
    {
     "name": "stdout",
     "output_type": "stream",
     "text": [
      "Average: 3.19\n",
      "Population variance: 1.3\n",
      "Population standard deviation: 1.14\n",
      "Sample variance: 1.31\n",
      "Sample standard deviation: 1.15\n"
     ]
    }
   ],
   "source": [
    "import numpy as np\n",
    "\n",
    "# set the seed here so that the results are repeatable\n",
    "np.random.seed(999)\n",
    "\n",
    "x = 1 + 4*np.random.rand(100)\n",
    "\n",
    "print('Average:', x.mean().round(2))\n",
    "\n",
    "print('Population variance:', np.var(x).round(2))\n",
    "print('Population standard deviation:', np.std(x).round(2))\n",
    "\n",
    "print('Sample variance:', np.var(x, ddof=1).round(2))\n",
    "print('Sample standard deviation:', np.std(x, ddof=1).round(2))"
   ]
  },
  {
   "cell_type": "markdown",
   "metadata": {},
   "source": [
    "**Execise 2:** Write a NumPy program to get the values and indices of the elements that are bigger than 10 in a given array."
   ]
  },
  {
   "cell_type": "code",
   "execution_count": 2,
   "metadata": {},
   "outputs": [
    {
     "name": "stdout",
     "output_type": "stream",
     "text": [
      "Original array: \n",
      "[ 5  6  7  8  9 10 11 12 13 14]\n",
      "Values bigger than 10: [11 12 13 14]\n",
      "Their indices are [6 7 8 9]\n"
     ]
    }
   ],
   "source": [
    "import numpy as np\n",
    "x = 5 + np.arange(10)\n",
    "\n",
    "print('Original array: ')\n",
    "print(x)\n",
    "print('Values bigger than 10:', x[x > 10])\n",
    "print('Their indices are', np.nonzero(x > 10)[0])"
   ]
  },
  {
   "cell_type": "markdown",
   "metadata": {},
   "source": [
    "**Exercise 3:** Write a NumPy program to find the set difference of two arrays. The set difference will return the sorted, unique values in the first array `array1` that are not in the second one `array2`. **Hint:** This is a one-liner."
   ]
  },
  {
   "cell_type": "code",
   "execution_count": 3,
   "metadata": {},
   "outputs": [
    {
     "name": "stdout",
     "output_type": "stream",
     "text": [
      "Array1:  [ 0 10 20 40 60 80]\n",
      "Array2:  [10, 30, 40, 50, 70]\n",
      "Unique values in array1 that are not in array2:\n",
      "[ 0 20 60 80]\n"
     ]
    }
   ],
   "source": [
    "import numpy as np\n",
    "\n",
    "array1 = np.array([0, 10, 20, 40, 60, 80])\n",
    "print('Array1: ', array1)\n",
    "\n",
    "array2 = [10, 30, 40, 50, 70]\n",
    "print('Array2: ', array2)\n",
    "\n",
    "print('Unique values in array1 that are not in array2:')\n",
    "print(np.setdiff1d(array1, array2))"
   ]
  },
  {
   "cell_type": "markdown",
   "metadata": {},
   "source": [
    "**Exercise 4:** Write a NumPy program to calculate element-wise round, floor, ceiling, and truncated form of an input array."
   ]
  },
  {
   "cell_type": "code",
   "execution_count": 4,
   "metadata": {},
   "outputs": [
    {
     "name": "stdout",
     "output_type": "stream",
     "text": [
      "Original array: [ 3.17  3.5   4.5   2.9  -3.1  -3.5  -5.9 ]\n",
      "round with np.round(): [ 3.  4.  4.  3. -3. -4. -6.]\n",
      "round with  x.round(): [ 3.  4.  4.  3. -3. -4. -6.]\n",
      "round to 1 digit: [ 3.2  3.5  4.5  2.9 -3.1 -3.5 -5.9]\n",
      "floor: [ 3.  3.  4.  2. -4. -4. -6.]\n",
      "ceil: [ 4.  4.  5.  3. -3. -3. -5.]\n",
      "truncated: [ 3.  3.  4.  2. -3. -3. -5.]\n"
     ]
    }
   ],
   "source": [
    "import numpy as np\n",
    "\n",
    "x = np.array([3.17, 3.5, 4.5, 2.9, -3.1, -3.5, -5.9])\n",
    "\n",
    "print('Original array:', x)\n",
    "\n",
    "print('round with np.round():', np.round(x))\n",
    "\n",
    "# this also works:\n",
    "print('round with  x.round():', x.round())\n",
    "\n",
    "print('round to 1 digit:', x.round(1))\n",
    "\n",
    "print('floor:', np.floor(x))\n",
    "\n",
    "# this DOES NOT work!\n",
    "# it will give attribute error:\n",
    "# 'numpy.ndarray' object has no attribute 'floor'\n",
    "### print(x.floor())\n",
    "\n",
    "print('ceil:', np.ceil(x))\n",
    "\n",
    "print('truncated:', np.trunc(x)) "
   ]
  },
  {
   "cell_type": "markdown",
   "metadata": {},
   "source": [
    "***\n",
    "www.featureranking.com"
   ]
  }
 ],
 "metadata": {
  "hide_input": false,
  "kernelspec": {
   "display_name": "Python 3",
   "language": "python",
   "name": "python3"
  },
  "language_info": {
   "codemirror_mode": {
    "name": "ipython",
    "version": 3
   },
   "file_extension": ".py",
   "mimetype": "text/x-python",
   "name": "python",
   "nbconvert_exporter": "python",
   "pygments_lexer": "ipython3",
   "version": "3.6.8"
  }
 },
 "nbformat": 4,
 "nbformat_minor": 2
}
