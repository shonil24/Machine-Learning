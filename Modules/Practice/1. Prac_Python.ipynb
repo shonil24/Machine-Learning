{
 "cells": [
  {
   "cell_type": "markdown",
   "metadata": {},
   "source": [
    "# Python Programming Exercises"
   ]
  },
  {
   "cell_type": "markdown",
   "metadata": {},
   "source": [
    "Reference for some of these exercises is [here](https://www.w3resource.com/python-exercises/)."
   ]
  },
  {
   "cell_type": "markdown",
   "metadata": {},
   "source": [
    "**Exercise 1:** Write a Python function to check whether a number is divisible by another number. Your function should accept two integers values and return a boolean."
   ]
  },
  {
   "cell_type": "code",
   "execution_count": 1,
   "metadata": {},
   "outputs": [
    {
     "name": "stdout",
     "output_type": "stream",
     "text": [
      "True\n",
      "False\n"
     ]
    }
   ],
   "source": [
    "def is_divisible(m, n):\n",
    "    return True if m % n == 0 else False\n",
    "\n",
    "print(is_divisible(20, 5))\n",
    "print(is_divisible(7, 2))"
   ]
  },
  {
   "cell_type": "markdown",
   "metadata": {},
   "source": [
    "**Exercise 2:** Fibonacci numbers start with 0, 1 and continues such that the next number is the sum of the previous two numbers. Write a Python function that gives a list of the first N fibonacci numbers.\n",
    "\n",
    "**Bonus:** Make the first two numbers optional with default values of 0 and 1."
   ]
  },
  {
   "cell_type": "code",
   "execution_count": 2,
   "metadata": {},
   "outputs": [
    {
     "name": "stdout",
     "output_type": "stream",
     "text": [
      "[0, 1, 1, 2, 3, 5, 8, 13, 21, 34]\n",
      "[5, 6, 11, 17, 28, 45, 73, 118, 191, 309]\n"
     ]
    }
   ],
   "source": [
    "def fibonacci(N, a = 0, b = 1):\n",
    "    L = []\n",
    "    L.append(a)\n",
    "    while len(L) < N:\n",
    "        a, b = b, a + b\n",
    "        L.append(a)\n",
    "    return L\n",
    "\n",
    "print(fibonacci(10))\n",
    "print(fibonacci(10,5,6))"
   ]
  },
  {
   "cell_type": "markdown",
   "metadata": {},
   "source": [
    "**Exercise 3:** Write a Python program to count the number of even and odd numbers in a given list of numbers."
   ]
  },
  {
   "cell_type": "code",
   "execution_count": 3,
   "metadata": {},
   "outputs": [
    {
     "name": "stdout",
     "output_type": "stream",
     "text": [
      "Number of even numbers : 51\n",
      "Number of odd numbers : 50\n"
     ]
    }
   ],
   "source": [
    "numbers = list(range(101))\n",
    "count_odd = 0\n",
    "count_even = 0\n",
    "for x in numbers:\n",
    "        if not x % 2: # Alternatively, you can write \"if x % 2 == 0:\"\n",
    "            count_even += 1\n",
    "        else:\n",
    "            count_odd += 1\n",
    "print('Number of even numbers :',count_even)\n",
    "print('Number of odd numbers :',count_odd)"
   ]
  },
  {
   "cell_type": "markdown",
   "metadata": {},
   "source": [
    "**Exercise 4:** Write a Python function that accepts a string and calculates the number of upper case and lower case letters using a dictionary with two keys."
   ]
  },
  {
   "cell_type": "code",
   "execution_count": 4,
   "metadata": {},
   "outputs": [
    {
     "name": "stdout",
     "output_type": "stream",
     "text": [
      "Input String: Why would anyone not love Python?\n",
      "No. of upper case characters :  2\n",
      "No. of lower case characters :  25\n"
     ]
    }
   ],
   "source": [
    "def string_test(s):\n",
    "    d = {'UPPER_CASE': 0, 'LOWER_CASE': 0}\n",
    "    for c in s:\n",
    "        if c.isupper():\n",
    "           d['UPPER_CASE'] += 1\n",
    "        elif c.islower():\n",
    "           d['LOWER_CASE'] += 1\n",
    "        else:\n",
    "           pass\n",
    "    print ('Input String:', s)\n",
    "    print ('No. of upper case characters : ', d['UPPER_CASE'])\n",
    "    print ('No. of lower case characters : ', d['LOWER_CASE'])\n",
    "\n",
    "string_test('Why would anyone not love Python?')"
   ]
  },
  {
   "cell_type": "markdown",
   "metadata": {},
   "source": [
    "**Exercise 5:** Write a Python program to store duplicate elements in a given list."
   ]
  },
  {
   "cell_type": "code",
   "execution_count": 5,
   "metadata": {},
   "outputs": [
    {
     "name": "stdout",
     "output_type": "stream",
     "text": [
      "[3, 8, 11]\n"
     ]
    }
   ],
   "source": [
    "lst = [1, 2, 3, 3, 5, 7, 8, 8, 11, 11, 11, 11]\n",
    "\n",
    "dup_elements = []\n",
    "for x in lst:\n",
    "    if lst.count(x) > 1:\n",
    "        if dup_elements.count(x) == 0:\n",
    "            dup_elements.append(x)\n",
    "\n",
    "print(dup_elements)"
   ]
  },
  {
   "cell_type": "markdown",
   "metadata": {},
   "source": [
    "**Exercise 6:** Write a Python function that takes two lists and returns `True` if they have at least one common element."
   ]
  },
  {
   "cell_type": "code",
   "execution_count": 6,
   "metadata": {},
   "outputs": [
    {
     "name": "stdout",
     "output_type": "stream",
     "text": [
      "True\n",
      "False\n"
     ]
    }
   ],
   "source": [
    "def common_element(list1, list2):\n",
    "    result = False\n",
    "    for x in list1:\n",
    "        for y in list2:\n",
    "            if x == y:\n",
    "                result = True\n",
    "    return result\n",
    "\n",
    "print(common_element([1,2], [2,3]))\n",
    "print(common_element([1,2], [3,4]))"
   ]
  },
  {
   "cell_type": "markdown",
   "metadata": {},
   "source": [
    "***\n",
    "www.featureranking.com"
   ]
  }
 ],
 "metadata": {
  "hide_input": false,
  "kernelspec": {
   "display_name": "Python 3",
   "language": "python",
   "name": "python3"
  },
  "language_info": {
   "codemirror_mode": {
    "name": "ipython",
    "version": 3
   },
   "file_extension": ".py",
   "mimetype": "text/x-python",
   "name": "python",
   "nbconvert_exporter": "python",
   "pygments_lexer": "ipython3",
   "version": "3.8.5"
  }
 },
 "nbformat": 4,
 "nbformat_minor": 2
}
