{
 "cells": [
  {
   "cell_type": "markdown",
   "metadata": {},
   "source": [
    "# Shonil Dabreo, s3835204, Group 62"
   ]
  },
  {
   "cell_type": "markdown",
   "metadata": {},
   "source": [
    "## Data Preparation \n",
    "### Loading dataset\n",
    "Importing packages and displaying the dataset shape and feature values"
   ]
  },
  {
   "cell_type": "code",
   "execution_count": 1,
   "metadata": {},
   "outputs": [
    {
     "name": "stdout",
     "output_type": "stream",
     "text": [
      "(212, 5)\n"
     ]
    },
    {
     "data": {
      "text/plain": [
       "array(['cut', 'color', 'depth', 'price', 'carat'], dtype=object)"
      ]
     },
     "execution_count": 1,
     "metadata": {},
     "output_type": "execute_result"
    }
   ],
   "source": [
    "import warnings\n",
    "warnings.filterwarnings(\"ignore\")\n",
    "\n",
    "# importing packages\n",
    "import numpy as np\n",
    "import pandas as pd\n",
    "\n",
    "# Setting random seed to 999\n",
    "np.random.seed(999)\n",
    "\n",
    "# Importing THA_diamonds.csv dataset and assigning it to a variable using read_csv function\n",
    "diamond = pd.read_csv('THA_diamonds.csv', decimal = '.')\n",
    "\n",
    "# printing no of observations & features\n",
    "print(diamond.shape)\n",
    "\n",
    "# headers\n",
    "diamond.columns.values"
   ]
  },
  {
   "cell_type": "markdown",
   "metadata": {},
   "source": [
    "There are total 212 observations and 5 descriptive features. The `carat` is the target feature."
   ]
  },
  {
   "cell_type": "markdown",
   "metadata": {},
   "source": [
    "### Checking Missing Values\n"
   ]
  },
  {
   "cell_type": "code",
   "execution_count": 2,
   "metadata": {},
   "outputs": [
    {
     "data": {
      "text/plain": [
       "cut      0\n",
       "color    0\n",
       "depth    0\n",
       "price    0\n",
       "carat    0\n",
       "dtype: int64"
      ]
     },
     "execution_count": 2,
     "metadata": {},
     "output_type": "execute_result"
    }
   ],
   "source": [
    "diamond.isna().sum()"
   ]
  },
  {
   "cell_type": "markdown",
   "metadata": {},
   "source": [
    "We found no missing values."
   ]
  },
  {
   "cell_type": "markdown",
   "metadata": {},
   "source": [
    "Lets look at the contents of the dataset."
   ]
  },
  {
   "cell_type": "code",
   "execution_count": 3,
   "metadata": {},
   "outputs": [
    {
     "data": {
      "text/html": [
       "<div>\n",
       "<style scoped>\n",
       "    .dataframe tbody tr th:only-of-type {\n",
       "        vertical-align: middle;\n",
       "    }\n",
       "\n",
       "    .dataframe tbody tr th {\n",
       "        vertical-align: top;\n",
       "    }\n",
       "\n",
       "    .dataframe thead th {\n",
       "        text-align: right;\n",
       "    }\n",
       "</style>\n",
       "<table border=\"1\" class=\"dataframe\">\n",
       "  <thead>\n",
       "    <tr style=\"text-align: right;\">\n",
       "      <th></th>\n",
       "      <th>cut</th>\n",
       "      <th>color</th>\n",
       "      <th>depth</th>\n",
       "      <th>price</th>\n",
       "      <th>carat</th>\n",
       "    </tr>\n",
       "  </thead>\n",
       "  <tbody>\n",
       "    <tr>\n",
       "      <td>0</td>\n",
       "      <td>Good</td>\n",
       "      <td>D</td>\n",
       "      <td>63.6</td>\n",
       "      <td>low</td>\n",
       "      <td>0.44</td>\n",
       "    </tr>\n",
       "    <tr>\n",
       "      <td>1</td>\n",
       "      <td>Fair</td>\n",
       "      <td>F</td>\n",
       "      <td>64.2</td>\n",
       "      <td>low</td>\n",
       "      <td>0.45</td>\n",
       "    </tr>\n",
       "    <tr>\n",
       "      <td>2</td>\n",
       "      <td>Good</td>\n",
       "      <td>I</td>\n",
       "      <td>60.4</td>\n",
       "      <td>low</td>\n",
       "      <td>0.50</td>\n",
       "    </tr>\n",
       "    <tr>\n",
       "      <td>3</td>\n",
       "      <td>Good</td>\n",
       "      <td>F</td>\n",
       "      <td>56.8</td>\n",
       "      <td>low</td>\n",
       "      <td>0.45</td>\n",
       "    </tr>\n",
       "    <tr>\n",
       "      <td>4</td>\n",
       "      <td>Fair</td>\n",
       "      <td>F</td>\n",
       "      <td>64.3</td>\n",
       "      <td>low</td>\n",
       "      <td>0.45</td>\n",
       "    </tr>\n",
       "    <tr>\n",
       "      <td>...</td>\n",
       "      <td>...</td>\n",
       "      <td>...</td>\n",
       "      <td>...</td>\n",
       "      <td>...</td>\n",
       "      <td>...</td>\n",
       "    </tr>\n",
       "    <tr>\n",
       "      <td>207</td>\n",
       "      <td>Good</td>\n",
       "      <td>F</td>\n",
       "      <td>63.7</td>\n",
       "      <td>premium</td>\n",
       "      <td>0.96</td>\n",
       "    </tr>\n",
       "    <tr>\n",
       "      <td>208</td>\n",
       "      <td>Fair</td>\n",
       "      <td>D</td>\n",
       "      <td>57.5</td>\n",
       "      <td>premium</td>\n",
       "      <td>0.90</td>\n",
       "    </tr>\n",
       "    <tr>\n",
       "      <td>209</td>\n",
       "      <td>Fair</td>\n",
       "      <td>F</td>\n",
       "      <td>64.7</td>\n",
       "      <td>premium</td>\n",
       "      <td>0.90</td>\n",
       "    </tr>\n",
       "    <tr>\n",
       "      <td>210</td>\n",
       "      <td>Good</td>\n",
       "      <td>I</td>\n",
       "      <td>58.2</td>\n",
       "      <td>premium</td>\n",
       "      <td>0.93</td>\n",
       "    </tr>\n",
       "    <tr>\n",
       "      <td>211</td>\n",
       "      <td>Fair</td>\n",
       "      <td>F</td>\n",
       "      <td>58.9</td>\n",
       "      <td>premium</td>\n",
       "      <td>0.90</td>\n",
       "    </tr>\n",
       "  </tbody>\n",
       "</table>\n",
       "<p>212 rows × 5 columns</p>\n",
       "</div>"
      ],
      "text/plain": [
       "      cut color  depth    price  carat\n",
       "0    Good     D   63.6      low   0.44\n",
       "1    Fair     F   64.2      low   0.45\n",
       "2    Good     I   60.4      low   0.50\n",
       "3    Good     F   56.8      low   0.45\n",
       "4    Fair     F   64.3      low   0.45\n",
       "..    ...   ...    ...      ...    ...\n",
       "207  Good     F   63.7  premium   0.96\n",
       "208  Fair     D   57.5  premium   0.90\n",
       "209  Fair     F   64.7  premium   0.90\n",
       "210  Good     I   58.2  premium   0.93\n",
       "211  Fair     F   58.9  premium   0.90\n",
       "\n",
       "[212 rows x 5 columns]"
      ]
     },
     "execution_count": 3,
     "metadata": {},
     "output_type": "execute_result"
    }
   ],
   "source": [
    "# To display all columns in a dataframe. \n",
    "pd.set_option('display.max_columns', None) \n",
    "diamond"
   ]
  },
  {
   "cell_type": "markdown",
   "metadata": {},
   "source": [
    "## Encoding Categorical Features\n",
    "Encoding features into Numerical features is necessary to begin with Modelling.\n",
    "\n",
    "\n",
    "Dropping the `carat` feature into *target* variable and the rest of the features into *data* variable."
   ]
  },
  {
   "cell_type": "code",
   "execution_count": 4,
   "metadata": {},
   "outputs": [
    {
     "data": {
      "text/plain": [
       "0    0.44\n",
       "1    0.45\n",
       "2    0.50\n",
       "3    0.45\n",
       "4    0.45\n",
       "Name: carat, dtype: float64"
      ]
     },
     "execution_count": 4,
     "metadata": {},
     "output_type": "execute_result"
    }
   ],
   "source": [
    "data = diamond.drop(columns='carat')\n",
    "target = diamond['carat']\n",
    "target.head(5)"
   ]
  },
  {
   "cell_type": "markdown",
   "metadata": {},
   "source": [
    "Now, we perform one-hot encoding for categorical features."
   ]
  },
  {
   "cell_type": "code",
   "execution_count": 5,
   "metadata": {},
   "outputs": [
    {
     "data": {
      "text/plain": [
       "['cut', 'color', 'price']"
      ]
     },
     "execution_count": 5,
     "metadata": {},
     "output_type": "execute_result"
    }
   ],
   "source": [
    "category_feat = data.columns[data.dtypes==object].tolist()\n",
    "category_feat"
   ]
  },
  {
   "cell_type": "markdown",
   "metadata": {},
   "source": [
    "We have the `cut`, `color` & `price` categorical features. The `drop_first` is assigned as `True`to encode the feature with 2 levels first and then the features with regular ones."
   ]
  },
  {
   "cell_type": "code",
   "execution_count": 6,
   "metadata": {},
   "outputs": [
    {
     "name": "stdout",
     "output_type": "stream",
     "text": [
      "Index(['cut', 'depth', 'color_D', 'color_F', 'color_I', 'price_high',\n",
      "       'price_low', 'price_medium', 'price_premium'],\n",
      "      dtype='object')\n"
     ]
    }
   ],
   "source": [
    "for column in category_feat:\n",
    "    n = len(data[column].unique())\n",
    "    if (n == 2):\n",
    "        data[column] = pd.get_dummies(data[column], drop_first=True)\n",
    "\n",
    "# One-hot encoding for features with more than 2 levels\n",
    "data = pd.get_dummies(data)\n",
    "\n",
    "# printing list of features after encoding them\n",
    "print(data.columns)"
   ]
  },
  {
   "cell_type": "code",
   "execution_count": 7,
   "metadata": {},
   "outputs": [
    {
     "data": {
      "text/html": [
       "<div>\n",
       "<style scoped>\n",
       "    .dataframe tbody tr th:only-of-type {\n",
       "        vertical-align: middle;\n",
       "    }\n",
       "\n",
       "    .dataframe tbody tr th {\n",
       "        vertical-align: top;\n",
       "    }\n",
       "\n",
       "    .dataframe thead th {\n",
       "        text-align: right;\n",
       "    }\n",
       "</style>\n",
       "<table border=\"1\" class=\"dataframe\">\n",
       "  <thead>\n",
       "    <tr style=\"text-align: right;\">\n",
       "      <th></th>\n",
       "      <th>cut</th>\n",
       "      <th>depth</th>\n",
       "      <th>color_D</th>\n",
       "      <th>color_F</th>\n",
       "      <th>color_I</th>\n",
       "      <th>price_high</th>\n",
       "      <th>price_low</th>\n",
       "      <th>price_medium</th>\n",
       "      <th>price_premium</th>\n",
       "    </tr>\n",
       "  </thead>\n",
       "  <tbody>\n",
       "    <tr>\n",
       "      <td>0</td>\n",
       "      <td>1</td>\n",
       "      <td>63.6</td>\n",
       "      <td>1</td>\n",
       "      <td>0</td>\n",
       "      <td>0</td>\n",
       "      <td>0</td>\n",
       "      <td>1</td>\n",
       "      <td>0</td>\n",
       "      <td>0</td>\n",
       "    </tr>\n",
       "    <tr>\n",
       "      <td>1</td>\n",
       "      <td>0</td>\n",
       "      <td>64.2</td>\n",
       "      <td>0</td>\n",
       "      <td>1</td>\n",
       "      <td>0</td>\n",
       "      <td>0</td>\n",
       "      <td>1</td>\n",
       "      <td>0</td>\n",
       "      <td>0</td>\n",
       "    </tr>\n",
       "    <tr>\n",
       "      <td>2</td>\n",
       "      <td>1</td>\n",
       "      <td>60.4</td>\n",
       "      <td>0</td>\n",
       "      <td>0</td>\n",
       "      <td>1</td>\n",
       "      <td>0</td>\n",
       "      <td>1</td>\n",
       "      <td>0</td>\n",
       "      <td>0</td>\n",
       "    </tr>\n",
       "    <tr>\n",
       "      <td>3</td>\n",
       "      <td>1</td>\n",
       "      <td>56.8</td>\n",
       "      <td>0</td>\n",
       "      <td>1</td>\n",
       "      <td>0</td>\n",
       "      <td>0</td>\n",
       "      <td>1</td>\n",
       "      <td>0</td>\n",
       "      <td>0</td>\n",
       "    </tr>\n",
       "    <tr>\n",
       "      <td>4</td>\n",
       "      <td>0</td>\n",
       "      <td>64.3</td>\n",
       "      <td>0</td>\n",
       "      <td>1</td>\n",
       "      <td>0</td>\n",
       "      <td>0</td>\n",
       "      <td>1</td>\n",
       "      <td>0</td>\n",
       "      <td>0</td>\n",
       "    </tr>\n",
       "  </tbody>\n",
       "</table>\n",
       "</div>"
      ],
      "text/plain": [
       "   cut  depth  color_D  color_F  color_I  price_high  price_low  price_medium  \\\n",
       "0    1   63.6        1        0        0           0          1             0   \n",
       "1    0   64.2        0        1        0           0          1             0   \n",
       "2    1   60.4        0        0        1           0          1             0   \n",
       "3    1   56.8        0        1        0           0          1             0   \n",
       "4    0   64.3        0        1        0           0          1             0   \n",
       "\n",
       "   price_premium  \n",
       "0              0  \n",
       "1              0  \n",
       "2              0  \n",
       "3              0  \n",
       "4              0  "
      ]
     },
     "execution_count": 7,
     "metadata": {},
     "output_type": "execute_result"
    }
   ],
   "source": [
    "data.head(5)"
   ]
  },
  {
   "cell_type": "markdown",
   "metadata": {},
   "source": [
    "## Feature Scaling\n",
    "Implementing the min-max scaling of categorical features. Keeping a copy of the dataframe for later use."
   ]
  },
  {
   "cell_type": "code",
   "execution_count": 8,
   "metadata": {},
   "outputs": [],
   "source": [
    "from sklearn import preprocessing\n",
    "\n",
    "dt_copy = data.copy()\n",
    "\n",
    "Data_scaler = preprocessing.MinMaxScaler()\n",
    "Data_scaler.fit(data)\n",
    "data = Data_scaler.fit_transform(data)"
   ]
  },
  {
   "cell_type": "markdown",
   "metadata": {},
   "source": [
    "The output of dataframe is lost, so using the copy of dataframe for showing the column names. "
   ]
  },
  {
   "cell_type": "code",
   "execution_count": 9,
   "metadata": {},
   "outputs": [
    {
     "data": {
      "text/html": [
       "<div>\n",
       "<style scoped>\n",
       "    .dataframe tbody tr th:only-of-type {\n",
       "        vertical-align: middle;\n",
       "    }\n",
       "\n",
       "    .dataframe tbody tr th {\n",
       "        vertical-align: top;\n",
       "    }\n",
       "\n",
       "    .dataframe thead th {\n",
       "        text-align: right;\n",
       "    }\n",
       "</style>\n",
       "<table border=\"1\" class=\"dataframe\">\n",
       "  <thead>\n",
       "    <tr style=\"text-align: right;\">\n",
       "      <th></th>\n",
       "      <th>cut</th>\n",
       "      <th>depth</th>\n",
       "      <th>color_D</th>\n",
       "      <th>color_F</th>\n",
       "      <th>color_I</th>\n",
       "      <th>price_high</th>\n",
       "      <th>price_low</th>\n",
       "      <th>price_medium</th>\n",
       "      <th>price_premium</th>\n",
       "    </tr>\n",
       "  </thead>\n",
       "  <tbody>\n",
       "    <tr>\n",
       "      <td>202</td>\n",
       "      <td>1.0</td>\n",
       "      <td>0.134328</td>\n",
       "      <td>0.0</td>\n",
       "      <td>0.0</td>\n",
       "      <td>1.0</td>\n",
       "      <td>0.0</td>\n",
       "      <td>0.0</td>\n",
       "      <td>0.0</td>\n",
       "      <td>1.0</td>\n",
       "    </tr>\n",
       "    <tr>\n",
       "      <td>203</td>\n",
       "      <td>1.0</td>\n",
       "      <td>0.201493</td>\n",
       "      <td>0.0</td>\n",
       "      <td>0.0</td>\n",
       "      <td>1.0</td>\n",
       "      <td>0.0</td>\n",
       "      <td>0.0</td>\n",
       "      <td>0.0</td>\n",
       "      <td>1.0</td>\n",
       "    </tr>\n",
       "    <tr>\n",
       "      <td>204</td>\n",
       "      <td>0.0</td>\n",
       "      <td>0.776119</td>\n",
       "      <td>0.0</td>\n",
       "      <td>1.0</td>\n",
       "      <td>0.0</td>\n",
       "      <td>0.0</td>\n",
       "      <td>0.0</td>\n",
       "      <td>0.0</td>\n",
       "      <td>1.0</td>\n",
       "    </tr>\n",
       "    <tr>\n",
       "      <td>205</td>\n",
       "      <td>1.0</td>\n",
       "      <td>0.320896</td>\n",
       "      <td>0.0</td>\n",
       "      <td>0.0</td>\n",
       "      <td>1.0</td>\n",
       "      <td>0.0</td>\n",
       "      <td>0.0</td>\n",
       "      <td>0.0</td>\n",
       "      <td>1.0</td>\n",
       "    </tr>\n",
       "    <tr>\n",
       "      <td>206</td>\n",
       "      <td>0.0</td>\n",
       "      <td>0.858209</td>\n",
       "      <td>0.0</td>\n",
       "      <td>1.0</td>\n",
       "      <td>0.0</td>\n",
       "      <td>0.0</td>\n",
       "      <td>0.0</td>\n",
       "      <td>0.0</td>\n",
       "      <td>1.0</td>\n",
       "    </tr>\n",
       "    <tr>\n",
       "      <td>207</td>\n",
       "      <td>1.0</td>\n",
       "      <td>0.626866</td>\n",
       "      <td>0.0</td>\n",
       "      <td>1.0</td>\n",
       "      <td>0.0</td>\n",
       "      <td>0.0</td>\n",
       "      <td>0.0</td>\n",
       "      <td>0.0</td>\n",
       "      <td>1.0</td>\n",
       "    </tr>\n",
       "    <tr>\n",
       "      <td>208</td>\n",
       "      <td>0.0</td>\n",
       "      <td>0.164179</td>\n",
       "      <td>1.0</td>\n",
       "      <td>0.0</td>\n",
       "      <td>0.0</td>\n",
       "      <td>0.0</td>\n",
       "      <td>0.0</td>\n",
       "      <td>0.0</td>\n",
       "      <td>1.0</td>\n",
       "    </tr>\n",
       "    <tr>\n",
       "      <td>209</td>\n",
       "      <td>0.0</td>\n",
       "      <td>0.701493</td>\n",
       "      <td>0.0</td>\n",
       "      <td>1.0</td>\n",
       "      <td>0.0</td>\n",
       "      <td>0.0</td>\n",
       "      <td>0.0</td>\n",
       "      <td>0.0</td>\n",
       "      <td>1.0</td>\n",
       "    </tr>\n",
       "    <tr>\n",
       "      <td>210</td>\n",
       "      <td>1.0</td>\n",
       "      <td>0.216418</td>\n",
       "      <td>0.0</td>\n",
       "      <td>0.0</td>\n",
       "      <td>1.0</td>\n",
       "      <td>0.0</td>\n",
       "      <td>0.0</td>\n",
       "      <td>0.0</td>\n",
       "      <td>1.0</td>\n",
       "    </tr>\n",
       "    <tr>\n",
       "      <td>211</td>\n",
       "      <td>0.0</td>\n",
       "      <td>0.268657</td>\n",
       "      <td>0.0</td>\n",
       "      <td>1.0</td>\n",
       "      <td>0.0</td>\n",
       "      <td>0.0</td>\n",
       "      <td>0.0</td>\n",
       "      <td>0.0</td>\n",
       "      <td>1.0</td>\n",
       "    </tr>\n",
       "  </tbody>\n",
       "</table>\n",
       "</div>"
      ],
      "text/plain": [
       "     cut     depth  color_D  color_F  color_I  price_high  price_low  \\\n",
       "202  1.0  0.134328      0.0      0.0      1.0         0.0        0.0   \n",
       "203  1.0  0.201493      0.0      0.0      1.0         0.0        0.0   \n",
       "204  0.0  0.776119      0.0      1.0      0.0         0.0        0.0   \n",
       "205  1.0  0.320896      0.0      0.0      1.0         0.0        0.0   \n",
       "206  0.0  0.858209      0.0      1.0      0.0         0.0        0.0   \n",
       "207  1.0  0.626866      0.0      1.0      0.0         0.0        0.0   \n",
       "208  0.0  0.164179      1.0      0.0      0.0         0.0        0.0   \n",
       "209  0.0  0.701493      0.0      1.0      0.0         0.0        0.0   \n",
       "210  1.0  0.216418      0.0      0.0      1.0         0.0        0.0   \n",
       "211  0.0  0.268657      0.0      1.0      0.0         0.0        0.0   \n",
       "\n",
       "     price_medium  price_premium  \n",
       "202           0.0            1.0  \n",
       "203           0.0            1.0  \n",
       "204           0.0            1.0  \n",
       "205           0.0            1.0  \n",
       "206           0.0            1.0  \n",
       "207           0.0            1.0  \n",
       "208           0.0            1.0  \n",
       "209           0.0            1.0  \n",
       "210           0.0            1.0  \n",
       "211           0.0            1.0  "
      ]
     },
     "execution_count": 9,
     "metadata": {},
     "output_type": "execute_result"
    }
   ],
   "source": [
    "data = pd.DataFrame(data, columns = dt_copy.columns)\n",
    "data.tail(10)"
   ]
  },
  {
   "cell_type": "markdown",
   "metadata": {},
   "source": [
    "The last 10 observations are displayed. We can see that the values are between 0 and 1 after scaling."
   ]
  },
  {
   "cell_type": "markdown",
   "metadata": {},
   "source": [
    "## Train-Test Splitting\n",
    "Splitting the dataset into train and test sets with a 70:30 ratio."
   ]
  },
  {
   "cell_type": "code",
   "execution_count": 10,
   "metadata": {},
   "outputs": [
    {
     "name": "stdout",
     "output_type": "stream",
     "text": [
      "(148, 9)\n",
      "(64, 9)\n"
     ]
    }
   ],
   "source": [
    "from sklearn.model_selection import train_test_split\n",
    "\n",
    "d_train, d_test, t_train, t_test = train_test_split(data, target, test_size = 0.3, random_state = 999)\n",
    "\n",
    "print(d_train.shape)\n",
    "print(d_test.shape)"
   ]
  },
  {
   "cell_type": "markdown",
   "metadata": {},
   "source": [
    "## Model Hyperparameter tuning and Evaluation"
   ]
  },
  {
   "cell_type": "markdown",
   "metadata": {},
   "source": [
    "Cross validation with all training data and building model for k = 1, 5, 10 (no of neighbors). The RMSE error is an evaluation measure where the model with lowest value would perform better. The average RMSE value is calculated out of all errors for each K-neighbor.  \n",
    "\n",
    "Here, the thing to be noted is that the mean square error gives negative values which are converted into positive values."
   ]
  },
  {
   "cell_type": "code",
   "execution_count": 11,
   "metadata": {},
   "outputs": [
    {
     "name": "stdout",
     "output_type": "stream",
     "text": [
      "The RMSE error for k = 1 is: 0.088\n",
      "\n",
      "The RMSE error for k = 5 is: 0.077\n",
      "\n",
      "The RMSE error for k = 10 is: 0.078\n",
      "\n"
     ]
    }
   ],
   "source": [
    "from sklearn.model_selection import GridSearchCV, cross_val_score\n",
    "from sklearn.neighbors import KNeighborsRegressor\n",
    "\n",
    "k = [1, 5, 10]\n",
    "rmse_errors = []\n",
    "for count in range(0, 3):\n",
    "    knn_cv = KNeighborsRegressor(n_neighbors = k[count], metric = 'euclidean')\n",
    "    rmse = np.sqrt(-cross_val_score(knn_cv, data, target, cv = 10, scoring = 'neg_mean_squared_error'))\n",
    "    rmse_errors.append(rmse.mean())\n",
    "    print(\"The RMSE error for k =\", k[count], \"is:\", rmse_errors[count].round(3))\n",
    "    print()\n",
    "    count = count + 1"
   ]
  },
  {
   "cell_type": "markdown",
   "metadata": {},
   "source": [
    "The optimal KNN model has been viewed with a lowest RMSE error of 0.077 where the best parameter, no of neighbors is 5."
   ]
  },
  {
   "cell_type": "markdown",
   "metadata": {},
   "source": [
    "We will build models by fitting the data with different k-neighbors. "
   ]
  },
  {
   "cell_type": "code",
   "execution_count": 12,
   "metadata": {},
   "outputs": [
    {
     "data": {
      "text/plain": [
       "KNeighborsRegressor(algorithm='auto', leaf_size=30, metric='euclidean',\n",
       "                    metric_params=None, n_jobs=None, n_neighbors=1, p=2,\n",
       "                    weights='uniform')"
      ]
     },
     "execution_count": 12,
     "metadata": {},
     "output_type": "execute_result"
    }
   ],
   "source": [
    "knn_1 = KNeighborsRegressor(n_neighbors = 1, metric = 'euclidean')\n",
    "knn_1.fit(d_train, t_train)"
   ]
  },
  {
   "cell_type": "code",
   "execution_count": 13,
   "metadata": {},
   "outputs": [
    {
     "data": {
      "text/plain": [
       "KNeighborsRegressor(algorithm='auto', leaf_size=30, metric='euclidean',\n",
       "                    metric_params=None, n_jobs=None, n_neighbors=5, p=2,\n",
       "                    weights='uniform')"
      ]
     },
     "execution_count": 13,
     "metadata": {},
     "output_type": "execute_result"
    }
   ],
   "source": [
    "knn_5 = KNeighborsRegressor(n_neighbors = 5, metric = 'euclidean')\n",
    "knn_5.fit(d_train, t_train)"
   ]
  },
  {
   "cell_type": "code",
   "execution_count": 14,
   "metadata": {},
   "outputs": [
    {
     "data": {
      "text/plain": [
       "KNeighborsRegressor(algorithm='auto', leaf_size=30, metric='euclidean',\n",
       "                    metric_params=None, n_jobs=None, n_neighbors=10, p=2,\n",
       "                    weights='uniform')"
      ]
     },
     "execution_count": 14,
     "metadata": {},
     "output_type": "execute_result"
    }
   ],
   "source": [
    "knn_10 = KNeighborsRegressor(n_neighbors = 10, metric = 'euclidean')\n",
    "knn_10.fit(d_train, t_train)"
   ]
  },
  {
   "cell_type": "markdown",
   "metadata": {},
   "source": [
    "Now, that the models with different parameters are fitted, we will use predict function to predict the target value for a single observation. But first, lets create a dataframe with a single observation and convert categorical features. Then, to map the observation with the trained data, we encode the new observation and scale them based on trained data."
   ]
  },
  {
   "cell_type": "code",
   "execution_count": 15,
   "metadata": {},
   "outputs": [],
   "source": [
    "single_df = pd.DataFrame([['good', 60, 'D', 'premium']] , columns = ['cut', 'depth', 'color', 'price'])\n",
    "\n",
    "# converting features to categories\n",
    "single_df['cut'] = pd.Categorical(single_df['cut'], \n",
    "                                  categories = [\"Good\", \"Fair\"])\n",
    "\n",
    "single_df['color'] = pd.Categorical(single_df['color'], \n",
    "                                  categories = [\"D\", \"F\", \"I\"])\n",
    "\n",
    "single_df['price'] = pd.Categorical(single_df['price'], \n",
    "                                  categories = [\"low\", \"medium\", \"high\", \"premium\"])\n",
    "\n",
    "# Encoding 2 levels and >2 levels categorical values based on training data (d_train.columns). \n",
    "single_df['cut'] = pd.get_dummies(single_df['cut'], drop_first=True)\n",
    "single_df_enc = pd.get_dummies(single_df)[d_train.columns]\n",
    "\n",
    "# transforming the encoded data of single observation\n",
    "d_new = preprocessing.MinMaxScaler().fit_transform(single_df_enc)"
   ]
  },
  {
   "cell_type": "markdown",
   "metadata": {},
   "source": [
    "The carat predicted value for k = 1"
   ]
  },
  {
   "cell_type": "code",
   "execution_count": 16,
   "metadata": {},
   "outputs": [
    {
     "data": {
      "text/plain": [
       "array([0.64])"
      ]
     },
     "execution_count": 16,
     "metadata": {},
     "output_type": "execute_result"
    }
   ],
   "source": [
    "t_pred1 = knn_1.predict(d_new)\n",
    "t_pred1"
   ]
  },
  {
   "cell_type": "markdown",
   "metadata": {},
   "source": [
    "The carat predicted value for k = 5"
   ]
  },
  {
   "cell_type": "code",
   "execution_count": 17,
   "metadata": {},
   "outputs": [
    {
     "data": {
      "text/plain": [
       "array([0.664])"
      ]
     },
     "execution_count": 17,
     "metadata": {},
     "output_type": "execute_result"
    }
   ],
   "source": [
    "t_pred5 = knn_5.predict(d_new)\n",
    "t_pred5"
   ]
  },
  {
   "cell_type": "markdown",
   "metadata": {},
   "source": [
    "The carat predicted value for k = 10"
   ]
  },
  {
   "cell_type": "code",
   "execution_count": 18,
   "metadata": {},
   "outputs": [
    {
     "data": {
      "text/plain": [
       "array([0.678])"
      ]
     },
     "execution_count": 18,
     "metadata": {},
     "output_type": "execute_result"
    }
   ],
   "source": [
    "t_pred10 = knn_10.predict(d_new)\n",
    "t_pred10"
   ]
  },
  {
   "cell_type": "markdown",
   "metadata": {},
   "source": [
    "## Wrap Up"
   ]
  },
  {
   "cell_type": "markdown",
   "metadata": {},
   "source": [
    "**df_summary_sklearn**\n",
    "\n",
    "|method | prediction | is_best|\n",
    "|---|---|---|\n",
    "|1-KNN | 0.64 | False |\n",
    "|5-KNN | 0.664 | False |\n",
    "|10-KNN | 0.678 | True |"
   ]
  }
 ],
 "metadata": {
  "kernelspec": {
   "display_name": "Python 3",
   "language": "python",
   "name": "python3"
  },
  "language_info": {
   "codemirror_mode": {
    "name": "ipython",
    "version": 3
   },
   "file_extension": ".py",
   "mimetype": "text/x-python",
   "name": "python",
   "nbconvert_exporter": "python",
   "pygments_lexer": "ipython3",
   "version": "3.7.4"
  }
 },
 "nbformat": 4,
 "nbformat_minor": 2
}
