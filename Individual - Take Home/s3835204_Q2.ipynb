{
 "cells": [
  {
   "cell_type": "markdown",
   "metadata": {},
   "source": [
    "# Shonil Dabreo, s3835204, Group 62"
   ]
  },
  {
   "cell_type": "markdown",
   "metadata": {},
   "source": [
    "### Loading dataset\n",
    "We have already prepared the dataset in Question 1. Importing packages and displaying the dataset shape and feature values."
   ]
  },
  {
   "cell_type": "code",
   "execution_count": 1,
   "metadata": {},
   "outputs": [
    {
     "name": "stdout",
     "output_type": "stream",
     "text": [
      "(212, 5)\n"
     ]
    },
    {
     "data": {
      "text/plain": [
       "array(['cut', 'color', 'depth', 'price', 'carat'], dtype=object)"
      ]
     },
     "execution_count": 1,
     "metadata": {},
     "output_type": "execute_result"
    }
   ],
   "source": [
    "import warnings\n",
    "warnings.filterwarnings(\"ignore\")\n",
    "\n",
    "# importing packages\n",
    "import numpy as np\n",
    "import pandas as pd\n",
    "\n",
    "# Setting random seed to 999\n",
    "np.random.seed(999)\n",
    "\n",
    "# Importing THA_diamonds.csv dataset and assigning it to a variable using read_csv function\n",
    "diamond = pd.read_csv('THA_diamonds.csv', decimal = '.')\n",
    "\n",
    "# printing no of observations & features\n",
    "print(diamond.shape)\n",
    "\n",
    "# headers\n",
    "diamond.columns.values"
   ]
  },
  {
   "cell_type": "code",
   "execution_count": 2,
   "metadata": {},
   "outputs": [
    {
     "data": {
      "text/html": [
       "<div>\n",
       "<style scoped>\n",
       "    .dataframe tbody tr th:only-of-type {\n",
       "        vertical-align: middle;\n",
       "    }\n",
       "\n",
       "    .dataframe tbody tr th {\n",
       "        vertical-align: top;\n",
       "    }\n",
       "\n",
       "    .dataframe thead th {\n",
       "        text-align: right;\n",
       "    }\n",
       "</style>\n",
       "<table border=\"1\" class=\"dataframe\">\n",
       "  <thead>\n",
       "    <tr style=\"text-align: right;\">\n",
       "      <th></th>\n",
       "      <th>cut</th>\n",
       "      <th>color</th>\n",
       "      <th>depth</th>\n",
       "      <th>price</th>\n",
       "      <th>carat</th>\n",
       "    </tr>\n",
       "  </thead>\n",
       "  <tbody>\n",
       "    <tr>\n",
       "      <td>0</td>\n",
       "      <td>Good</td>\n",
       "      <td>D</td>\n",
       "      <td>63.6</td>\n",
       "      <td>low</td>\n",
       "      <td>0.44</td>\n",
       "    </tr>\n",
       "    <tr>\n",
       "      <td>1</td>\n",
       "      <td>Fair</td>\n",
       "      <td>F</td>\n",
       "      <td>64.2</td>\n",
       "      <td>low</td>\n",
       "      <td>0.45</td>\n",
       "    </tr>\n",
       "    <tr>\n",
       "      <td>2</td>\n",
       "      <td>Good</td>\n",
       "      <td>I</td>\n",
       "      <td>60.4</td>\n",
       "      <td>low</td>\n",
       "      <td>0.50</td>\n",
       "    </tr>\n",
       "    <tr>\n",
       "      <td>3</td>\n",
       "      <td>Good</td>\n",
       "      <td>F</td>\n",
       "      <td>56.8</td>\n",
       "      <td>low</td>\n",
       "      <td>0.45</td>\n",
       "    </tr>\n",
       "    <tr>\n",
       "      <td>4</td>\n",
       "      <td>Fair</td>\n",
       "      <td>F</td>\n",
       "      <td>64.3</td>\n",
       "      <td>low</td>\n",
       "      <td>0.45</td>\n",
       "    </tr>\n",
       "    <tr>\n",
       "      <td>...</td>\n",
       "      <td>...</td>\n",
       "      <td>...</td>\n",
       "      <td>...</td>\n",
       "      <td>...</td>\n",
       "      <td>...</td>\n",
       "    </tr>\n",
       "    <tr>\n",
       "      <td>207</td>\n",
       "      <td>Good</td>\n",
       "      <td>F</td>\n",
       "      <td>63.7</td>\n",
       "      <td>premium</td>\n",
       "      <td>0.96</td>\n",
       "    </tr>\n",
       "    <tr>\n",
       "      <td>208</td>\n",
       "      <td>Fair</td>\n",
       "      <td>D</td>\n",
       "      <td>57.5</td>\n",
       "      <td>premium</td>\n",
       "      <td>0.90</td>\n",
       "    </tr>\n",
       "    <tr>\n",
       "      <td>209</td>\n",
       "      <td>Fair</td>\n",
       "      <td>F</td>\n",
       "      <td>64.7</td>\n",
       "      <td>premium</td>\n",
       "      <td>0.90</td>\n",
       "    </tr>\n",
       "    <tr>\n",
       "      <td>210</td>\n",
       "      <td>Good</td>\n",
       "      <td>I</td>\n",
       "      <td>58.2</td>\n",
       "      <td>premium</td>\n",
       "      <td>0.93</td>\n",
       "    </tr>\n",
       "    <tr>\n",
       "      <td>211</td>\n",
       "      <td>Fair</td>\n",
       "      <td>F</td>\n",
       "      <td>58.9</td>\n",
       "      <td>premium</td>\n",
       "      <td>0.90</td>\n",
       "    </tr>\n",
       "  </tbody>\n",
       "</table>\n",
       "<p>212 rows × 5 columns</p>\n",
       "</div>"
      ],
      "text/plain": [
       "      cut color  depth    price  carat\n",
       "0    Good     D   63.6      low   0.44\n",
       "1    Fair     F   64.2      low   0.45\n",
       "2    Good     I   60.4      low   0.50\n",
       "3    Good     F   56.8      low   0.45\n",
       "4    Fair     F   64.3      low   0.45\n",
       "..    ...   ...    ...      ...    ...\n",
       "207  Good     F   63.7  premium   0.96\n",
       "208  Fair     D   57.5  premium   0.90\n",
       "209  Fair     F   64.7  premium   0.90\n",
       "210  Good     I   58.2  premium   0.93\n",
       "211  Fair     F   58.9  premium   0.90\n",
       "\n",
       "[212 rows x 5 columns]"
      ]
     },
     "execution_count": 2,
     "metadata": {},
     "output_type": "execute_result"
    }
   ],
   "source": [
    "# To display all columns in a dataframe. \n",
    "pd.set_option('display.max_columns', None) \n",
    "diamond"
   ]
  },
  {
   "cell_type": "markdown",
   "metadata": {},
   "source": [
    "## Discretizing the Features"
   ]
  },
  {
   "cell_type": "markdown",
   "metadata": {},
   "source": [
    "We will discretize `carat` & `depth` numeric features into categorical features for successful build of model. First we will create a copy of the dataset and then using `qcut` (quantile-based discretization) for discretizing the features. \n",
    "Note that **rank** function is used to bin according to the rank and avoid including duplicate values while binning."
   ]
  },
  {
   "cell_type": "code",
   "execution_count": 10,
   "metadata": {},
   "outputs": [],
   "source": [
    "diam_copy = diamond.copy()\n",
    "\n",
    "diam_copy['carat'] = pd.qcut(diam_copy['carat'].rank(method = 'first'), q = 3, \n",
    "                             labels = ['carat_1', 'carat_2', 'carat_3'])\n",
    "\n",
    "diam_copy['depth'] = pd.qcut(diam_copy['depth'].rank(method = 'first'), q = 3, \n",
    "                             labels = ['depth_1', 'depth_2', 'depth_3'])"
   ]
  },
  {
   "cell_type": "markdown",
   "metadata": {},
   "source": [
    "We will use `value_counts` method from **pandas** to verify we correctly implemented the binning technique."
   ]
  },
  {
   "cell_type": "code",
   "execution_count": 11,
   "metadata": {},
   "outputs": [
    {
     "data": {
      "text/plain": [
       "carat_3    71\n",
       "carat_1    71\n",
       "carat_2    70\n",
       "Name: carat, dtype: int64"
      ]
     },
     "execution_count": 11,
     "metadata": {},
     "output_type": "execute_result"
    }
   ],
   "source": [
    "diam_copy['carat'].value_counts()"
   ]
  },
  {
   "cell_type": "markdown",
   "metadata": {},
   "source": [
    "Lets see the contents of the dataset."
   ]
  },
  {
   "cell_type": "code",
   "execution_count": 12,
   "metadata": {},
   "outputs": [
    {
     "data": {
      "text/html": [
       "<div>\n",
       "<style scoped>\n",
       "    .dataframe tbody tr th:only-of-type {\n",
       "        vertical-align: middle;\n",
       "    }\n",
       "\n",
       "    .dataframe tbody tr th {\n",
       "        vertical-align: top;\n",
       "    }\n",
       "\n",
       "    .dataframe thead th {\n",
       "        text-align: right;\n",
       "    }\n",
       "</style>\n",
       "<table border=\"1\" class=\"dataframe\">\n",
       "  <thead>\n",
       "    <tr style=\"text-align: right;\">\n",
       "      <th></th>\n",
       "      <th>cut</th>\n",
       "      <th>color</th>\n",
       "      <th>depth</th>\n",
       "      <th>price</th>\n",
       "      <th>carat</th>\n",
       "    </tr>\n",
       "  </thead>\n",
       "  <tbody>\n",
       "    <tr>\n",
       "      <td>0</td>\n",
       "      <td>Good</td>\n",
       "      <td>D</td>\n",
       "      <td>depth_2</td>\n",
       "      <td>low</td>\n",
       "      <td>carat_1</td>\n",
       "    </tr>\n",
       "    <tr>\n",
       "      <td>1</td>\n",
       "      <td>Fair</td>\n",
       "      <td>F</td>\n",
       "      <td>depth_3</td>\n",
       "      <td>low</td>\n",
       "      <td>carat_1</td>\n",
       "    </tr>\n",
       "    <tr>\n",
       "      <td>2</td>\n",
       "      <td>Good</td>\n",
       "      <td>I</td>\n",
       "      <td>depth_1</td>\n",
       "      <td>low</td>\n",
       "      <td>carat_1</td>\n",
       "    </tr>\n",
       "    <tr>\n",
       "      <td>3</td>\n",
       "      <td>Good</td>\n",
       "      <td>F</td>\n",
       "      <td>depth_1</td>\n",
       "      <td>low</td>\n",
       "      <td>carat_1</td>\n",
       "    </tr>\n",
       "    <tr>\n",
       "      <td>4</td>\n",
       "      <td>Fair</td>\n",
       "      <td>F</td>\n",
       "      <td>depth_3</td>\n",
       "      <td>low</td>\n",
       "      <td>carat_1</td>\n",
       "    </tr>\n",
       "  </tbody>\n",
       "</table>\n",
       "</div>"
      ],
      "text/plain": [
       "    cut color    depth price    carat\n",
       "0  Good     D  depth_2   low  carat_1\n",
       "1  Fair     F  depth_3   low  carat_1\n",
       "2  Good     I  depth_1   low  carat_1\n",
       "3  Good     F  depth_1   low  carat_1\n",
       "4  Fair     F  depth_3   low  carat_1"
      ]
     },
     "execution_count": 12,
     "metadata": {},
     "output_type": "execute_result"
    }
   ],
   "source": [
    "diam_copy.head(5)"
   ]
  },
  {
   "cell_type": "markdown",
   "metadata": {},
   "source": [
    "We can see the category names present in the dataset after binning."
   ]
  },
  {
   "cell_type": "markdown",
   "metadata": {},
   "source": [
    "### Compute Impurity of Target Feature "
   ]
  },
  {
   "cell_type": "markdown",
   "metadata": {},
   "source": [
    "For computing impurity of `price` feature, we will use the following code from the notes. \n",
    "We will first calculate the probability distribution for each category in `price`. Then compute the impurity using **entropy** critierion."
   ]
  },
  {
   "cell_type": "code",
   "execution_count": 19,
   "metadata": {},
   "outputs": [
    {
     "data": {
      "text/plain": [
       "1.716"
      ]
     },
     "execution_count": 19,
     "metadata": {},
     "output_type": "execute_result"
    }
   ],
   "source": [
    "probability = diam_copy['price'].value_counts(normalize = True)\n",
    "price_entropy = -1 * np.sum(np.log2(probability) * probability).round(3)\n",
    "price_entropy"
   ]
  },
  {
   "cell_type": "markdown",
   "metadata": {},
   "source": [
    "1.716 is the entropy impurity value for the target feature `price`. "
   ]
  },
  {
   "cell_type": "markdown",
   "metadata": {},
   "source": [
    "### Determine Root Node for Desicion Tree"
   ]
  },
  {
   "cell_type": "markdown",
   "metadata": {},
   "source": [
    "To determine the root node we will use the defined function from the notes. `compute_feature_information_gain` function is applied to calculate the information gain for splitting at root node.   "
   ]
  },
  {
   "cell_type": "code",
   "execution_count": 23,
   "metadata": {},
   "outputs": [],
   "source": [
    "def compute_feature_information_gain(df, target, nominal_feature):\n",
    "    \"\"\"\n",
    "    This function calculates information gain for splitting on \n",
    "    a particular descriptive feature for a given dataset\n",
    "    \"\"\"\n",
    "    \n",
    "    print('target feature:', target)\n",
    "    print('nominal_feature:', nominal_feature)\n",
    "\n",
    "    # we define two lists below:\n",
    "    # entropy_list to store the entropy of each partition\n",
    "    # weight_list to store the relative number of observations in each partition\n",
    "    entropy_list = list()\n",
    "    weight_list = list()\n",
    "    \n",
    "    # loop over each level of the descriptive feature\n",
    "    # to partition the dataset with respect to that level and compute the entropy and the weight of the level's partition\n",
    "    for level in df[nominal_feature].unique():\n",
    "        df_feature_level = df[df[nominal_feature] == level]\n",
    "        \n",
    "        # compute impurity of target from partioned data of a level\n",
    "        probability = df_feature_level['price'].value_counts(normalize = True)\n",
    "        entropy_level = -1 * np.sum(np.log2(probability) * probability).round(3)\n",
    "        \n",
    "        entropy_list.append(round(entropy_level, 3))\n",
    "        weight_level = len(df_feature_level) / len(df)\n",
    "        weight_list.append(round(weight_level, 3))\n",
    "\n",
    "    print('impurity of partitions:', entropy_list)\n",
    "    print('weights of partitions:', weight_list)\n",
    "\n",
    "    feature_remaining_impurity = np.sum(np.array(entropy_list) * np.array(weight_list))\n",
    "    print('remaining impurity:', feature_remaining_impurity.round(3))\n",
    "    \n",
    "    information_gain = price_entropy - feature_remaining_impurity\n",
    "    print('information gain:', information_gain.round(3))\n",
    "    \n",
    "    print('====================')\n",
    "\n",
    "    return(information_gain)"
   ]
  },
  {
   "cell_type": "code",
   "execution_count": 24,
   "metadata": {},
   "outputs": [
    {
     "name": "stdout",
     "output_type": "stream",
     "text": [
      "target feature: price\n",
      "nominal_feature: cut\n",
      "impurity of partitions: [1.68, 1.78]\n",
      "weights of partitions: [0.717, 0.283]\n",
      "remaining impurity: 1.708\n",
      "information gain: 0.008\n",
      "====================\n",
      "target feature: price\n",
      "nominal_feature: color\n",
      "impurity of partitions: [1.657, 1.445, 1.833]\n",
      "weights of partitions: [0.269, 0.434, 0.297]\n",
      "remaining impurity: 1.617\n",
      "information gain: 0.099\n",
      "====================\n",
      "target feature: price\n",
      "nominal_feature: depth\n",
      "impurity of partitions: [1.465, 1.749, 1.74]\n",
      "weights of partitions: [0.33, 0.335, 0.335]\n",
      "remaining impurity: 1.652\n",
      "information gain: 0.064\n",
      "====================\n",
      "target feature: price\n",
      "nominal_feature: carat\n",
      "impurity of partitions: [-0.0, 1.406, 1.486]\n",
      "weights of partitions: [0.335, 0.33, 0.335]\n",
      "remaining impurity: 0.962\n",
      "information gain: 0.754\n",
      "====================\n"
     ]
    }
   ],
   "source": [
    "for feat in diam_copy.drop(columns = 'price').columns:\n",
    "    feature_info_gain = compute_feature_information_gain(diam_copy, 'price', feat)"
   ]
  },
  {
   "cell_type": "markdown",
   "metadata": {},
   "source": [
    "It can be understood that the highest ***information gain - 0.754*** we get is for the `carat` feature which will be the split for the root node. "
   ]
  },
  {
   "cell_type": "markdown",
   "metadata": {},
   "source": [
    "**df_splits**\n",
    "\n",
    "|split | remainder | info_gain | is_optimal|\n",
    "|---|---|---|---|\n",
    "|cut | 1.708 | 0.008 | False |\n",
    "|color | 1.617 | 0.099 | False |\n",
    "|depth | 1.652 | 0.064 | False |\n",
    "|carat | 0.962 | 0.754 | True |"
   ]
  }
 ],
 "metadata": {
  "kernelspec": {
   "display_name": "Python 3",
   "language": "python",
   "name": "python3"
  },
  "language_info": {
   "codemirror_mode": {
    "name": "ipython",
    "version": 3
   },
   "file_extension": ".py",
   "mimetype": "text/x-python",
   "name": "python",
   "nbconvert_exporter": "python",
   "pygments_lexer": "ipython3",
   "version": "3.7.4"
  }
 },
 "nbformat": 4,
 "nbformat_minor": 2
}
