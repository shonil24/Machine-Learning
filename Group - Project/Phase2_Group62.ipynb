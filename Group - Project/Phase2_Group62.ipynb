{
 "cells": [
  {
   "cell_type": "markdown",
   "metadata": {},
   "source": [
    "# Predictive Modeling for Stroke Prediction"
   ]
  },
  {
   "cell_type": "markdown",
   "metadata": {},
   "source": [
    "## Group Name & Members\n",
    "- Group Name: 62\n",
    "- Group Members: Nitin Tundwal (S3572060), Mark Pereira (s3797413), Shonil Dabreo (s3835204)"
   ]
  },
  {
   "cell_type": "markdown",
   "metadata": {},
   "source": [
    "## Table of Contents\n",
    "- [Introduction](#introduction)\n",
    "    - [Report Overview](#report)\n",
    "    - [Overview of Methodology](#methodology)\n",
    "- [Data Preparation for Predictive Modeling](#prepare)\n",
    "    - [Splitting Data and Target](#split)\n",
    "    - [One-Hot Encoding](#encode)\n",
    "    - [Scaling and Normalising Features](#features)\n",
    "- [Predictive Modeling](#predict)\n",
    "    - [Feature Selection](#select)\n",
    "        - [Performance with All Features](#fullselect)\n",
    "        - [Random Forest Importance Feature Selection](#RFIselect)\n",
    "        - [F Score Feature Selection](#fscoreselect)\n",
    "        - [Performance Comparison of Feature Selection Methods](#performselect)\n",
    "    - [Model Fitting & Tuning](#tuning)\n",
    "        - [Train-Test Split](#ttsplit)\n",
    "        - [Select the Ten Best Features](#ten)  \n",
    "        - [Prediction & Performance Metric Scores of Different Models](#modscores) \n",
    "        - [KNN Hyperparameter Tuning](#KNN)\n",
    "        - [Decision Tree Hyperparamter Tunning](#DT)\n",
    "        - [Gaussian Naive Bayes Hyperparameter Tuning](#GB)\n",
    "        - [Support Vector Machines Hyperparameter Tuning](#SVM)\n",
    "        - [Random Forest Hyperparameter Tuning](#RF)\n",
    "        - [Best Score Summary](#BSsummary)\n",
    "    - [Model Comparison](#compare)\n",
    "        - [Area Under the Curve](#area)\n",
    "        - [Paired T-Test Comparison](#pairedttest)\n",
    "        - [Classification Report: Accuracy, Precision, Recall, & F1 Score](#classification)\n",
    "        - [Confusion Matrix](#confusion)\n",
    "- [Critique & Limitations](#critique)\n",
    "- [Summary & Conclusions](#conclusion)\n",
    "    - [Project Summary](#psummary)\n",
    "    - [Summary of Findings](#fsummary)\n",
    "    - [Conclusions](#conclusions)\n",
    "- [References](#references)"
   ]
  },
  {
   "cell_type": "markdown",
   "metadata": {},
   "source": [
    "# Introduction<a name=\"introduction\"></a>"
   ]
  },
  {
   "cell_type": "markdown",
   "metadata": {},
   "source": [
    "## Report Overview <a name=\"report\"></a>\n",
    "Previously in the report we completed the phase 1 of Machine Learning Assignment where we had done Data cleaning and Preprocessing (dealing with missing values, dropping ID-like columns, data aggregation, etc.) and also the Data exploration and Visualisation (charts, graphs, interactions, etc) as appropriate.\n",
    "\n",
    "Followed by phase 1, the task was to implement different Machine Learning models for predicting the Heart stroke. The one-hot encoding as well as feature scaling and normalization were performed on relevant features as a part of data preparation. Then various feature selection methods like Random forest and F-score were conducted on descriptive features to identify the best features. Followed by which Hyper-Parameter-Tuning with different Machine Learning models (K-Nearest Neighbour, Random Forest, Gaussian Naive Bayes,Decision tree, Support Vector Machines) was carried out based on the best descriptive features that were \n",
    "earlier identified in the feature selection method.\n",
    "\n",
    "Moreover, the predictive power of different models were compared using Confusion Matrix, Area Under Curve (AUC), Profit/Loss matrix and a Classification Report (accuracy, recall, precision, F1 scores).\n",
    "\n",
    "Lastly, the results were discussed by analysing the limitations in Machine Learning models and our approach."
   ]
  },
  {
   "cell_type": "markdown",
   "metadata": {},
   "source": [
    "## Overview of Methodology<a name=\"methodology\"></a>\n",
    "\n",
    "Feature selection was used to determine the best features. A 5-part cross validation iterated 3 times with a scoring matrix AUC curve was carried out to inspect the performance of 10 selected descriptive features. Random forest and F-score techniques were used to generate predictions of different features based on which the best optimal features were found. We found that 10 features produce better results compared to other numbers of features in F-score and Random Forest.\n",
    "\n",
    "Now for the Model fitting and tuning section, train-test split was used as 70% training and 30% testing data. The D_train_fs and D_test_fs (training and testing set) included the 10 best features selected based on F-score in comparison to the Random Forest. For fine tuning of all the models Grid Search method and AUC curve as a scoring metric was used. The dataset was highly imbalanced so AUC curve was used as it works best on biased dataset and in ranking predictions. Different models were iterated with set of parameters and then best parameters were choosen from models that produced optimal results. \n",
    "\n",
    "\n"
   ]
  },
  {
   "cell_type": "markdown",
   "metadata": {},
   "source": [
    "# Data Preparation for Predictive Modeling <a name=\"prepare\"></a>"
   ]
  },
  {
   "cell_type": "code",
   "execution_count": 1,
   "metadata": {},
   "outputs": [],
   "source": [
    "# Importing modules\n",
    "import numpy as np\n",
    "import pandas as pd\n",
    "import matplotlib.pyplot as plt\n",
    "import seaborn as sns\n",
    "import statsmodels.api as sm\n",
    "import statsmodels.formula.api as smf\n",
    "import patsy\n",
    "import warnings\n",
    "\n",
    "###\n",
    "warnings.filterwarnings('ignore')\n",
    "###\n",
    "%matplotlib inline \n",
    "%config InlineBackend.figure_format = 'retina'\n",
    "plt.style.use(\"ggplot\")"
   ]
  },
  {
   "cell_type": "code",
   "execution_count": 2,
   "metadata": {
    "scrolled": true
   },
   "outputs": [
    {
     "data": {
      "text/html": [
       "<div>\n",
       "<style scoped>\n",
       "    .dataframe tbody tr th:only-of-type {\n",
       "        vertical-align: middle;\n",
       "    }\n",
       "\n",
       "    .dataframe tbody tr th {\n",
       "        vertical-align: top;\n",
       "    }\n",
       "\n",
       "    .dataframe thead th {\n",
       "        text-align: right;\n",
       "    }\n",
       "</style>\n",
       "<table border=\"1\" class=\"dataframe\">\n",
       "  <thead>\n",
       "    <tr style=\"text-align: right;\">\n",
       "      <th></th>\n",
       "      <th>id</th>\n",
       "      <th>gender</th>\n",
       "      <th>age</th>\n",
       "      <th>hypertension</th>\n",
       "      <th>heart_disease</th>\n",
       "      <th>ever_married</th>\n",
       "      <th>work_type</th>\n",
       "      <th>Residence_type</th>\n",
       "      <th>avg_glucose_level</th>\n",
       "      <th>bmi</th>\n",
       "      <th>smoking_status</th>\n",
       "      <th>stroke</th>\n",
       "    </tr>\n",
       "  </thead>\n",
       "  <tbody>\n",
       "    <tr>\n",
       "      <th>0</th>\n",
       "      <td>9046</td>\n",
       "      <td>Male</td>\n",
       "      <td>67.0</td>\n",
       "      <td>0</td>\n",
       "      <td>1</td>\n",
       "      <td>Yes</td>\n",
       "      <td>Private</td>\n",
       "      <td>Urban</td>\n",
       "      <td>228.69</td>\n",
       "      <td>36.6</td>\n",
       "      <td>formerly smoked</td>\n",
       "      <td>1</td>\n",
       "    </tr>\n",
       "    <tr>\n",
       "      <th>1</th>\n",
       "      <td>51676</td>\n",
       "      <td>Female</td>\n",
       "      <td>61.0</td>\n",
       "      <td>0</td>\n",
       "      <td>0</td>\n",
       "      <td>Yes</td>\n",
       "      <td>Self-employed</td>\n",
       "      <td>Rural</td>\n",
       "      <td>202.21</td>\n",
       "      <td>NaN</td>\n",
       "      <td>never smoked</td>\n",
       "      <td>1</td>\n",
       "    </tr>\n",
       "    <tr>\n",
       "      <th>2</th>\n",
       "      <td>31112</td>\n",
       "      <td>Male</td>\n",
       "      <td>80.0</td>\n",
       "      <td>0</td>\n",
       "      <td>1</td>\n",
       "      <td>Yes</td>\n",
       "      <td>Private</td>\n",
       "      <td>Rural</td>\n",
       "      <td>105.92</td>\n",
       "      <td>32.5</td>\n",
       "      <td>never smoked</td>\n",
       "      <td>1</td>\n",
       "    </tr>\n",
       "    <tr>\n",
       "      <th>3</th>\n",
       "      <td>60182</td>\n",
       "      <td>Female</td>\n",
       "      <td>49.0</td>\n",
       "      <td>0</td>\n",
       "      <td>0</td>\n",
       "      <td>Yes</td>\n",
       "      <td>Private</td>\n",
       "      <td>Urban</td>\n",
       "      <td>171.23</td>\n",
       "      <td>34.4</td>\n",
       "      <td>smokes</td>\n",
       "      <td>1</td>\n",
       "    </tr>\n",
       "    <tr>\n",
       "      <th>4</th>\n",
       "      <td>1665</td>\n",
       "      <td>Female</td>\n",
       "      <td>79.0</td>\n",
       "      <td>1</td>\n",
       "      <td>0</td>\n",
       "      <td>Yes</td>\n",
       "      <td>Self-employed</td>\n",
       "      <td>Rural</td>\n",
       "      <td>174.12</td>\n",
       "      <td>24.0</td>\n",
       "      <td>never smoked</td>\n",
       "      <td>1</td>\n",
       "    </tr>\n",
       "  </tbody>\n",
       "</table>\n",
       "</div>"
      ],
      "text/plain": [
       "      id  gender   age  hypertension  heart_disease ever_married  \\\n",
       "0   9046    Male  67.0             0              1          Yes   \n",
       "1  51676  Female  61.0             0              0          Yes   \n",
       "2  31112    Male  80.0             0              1          Yes   \n",
       "3  60182  Female  49.0             0              0          Yes   \n",
       "4   1665  Female  79.0             1              0          Yes   \n",
       "\n",
       "       work_type Residence_type  avg_glucose_level   bmi   smoking_status  \\\n",
       "0        Private          Urban             228.69  36.6  formerly smoked   \n",
       "1  Self-employed          Rural             202.21   NaN     never smoked   \n",
       "2        Private          Rural             105.92  32.5     never smoked   \n",
       "3        Private          Urban             171.23  34.4           smokes   \n",
       "4  Self-employed          Rural             174.12  24.0     never smoked   \n",
       "\n",
       "   stroke  \n",
       "0       1  \n",
       "1       1  \n",
       "2       1  \n",
       "3       1  \n",
       "4       1  "
      ]
     },
     "execution_count": 2,
     "metadata": {},
     "output_type": "execute_result"
    }
   ],
   "source": [
    "# Importing dataset\n",
    "stroke_data = pd.read_csv(\"Data_Group62.csv\")\n",
    "stroke_data.head()"
   ]
  },
  {
   "cell_type": "code",
   "execution_count": 3,
   "metadata": {},
   "outputs": [
    {
     "data": {
      "text/html": [
       "<div>\n",
       "<style scoped>\n",
       "    .dataframe tbody tr th:only-of-type {\n",
       "        vertical-align: middle;\n",
       "    }\n",
       "\n",
       "    .dataframe tbody tr th {\n",
       "        vertical-align: top;\n",
       "    }\n",
       "\n",
       "    .dataframe thead th {\n",
       "        text-align: right;\n",
       "    }\n",
       "</style>\n",
       "<table border=\"1\" class=\"dataframe\">\n",
       "  <thead>\n",
       "    <tr style=\"text-align: right;\">\n",
       "      <th></th>\n",
       "      <th>gender</th>\n",
       "      <th>age</th>\n",
       "      <th>hypertension</th>\n",
       "      <th>heart_disease</th>\n",
       "      <th>ever_married</th>\n",
       "      <th>work_type</th>\n",
       "      <th>Residence_type</th>\n",
       "      <th>avg_glucose_level</th>\n",
       "      <th>bmi</th>\n",
       "      <th>smoking_status</th>\n",
       "      <th>stroke</th>\n",
       "    </tr>\n",
       "  </thead>\n",
       "  <tbody>\n",
       "    <tr>\n",
       "      <th>0</th>\n",
       "      <td>Male</td>\n",
       "      <td>67.0</td>\n",
       "      <td>0</td>\n",
       "      <td>1</td>\n",
       "      <td>Yes</td>\n",
       "      <td>Private</td>\n",
       "      <td>Urban</td>\n",
       "      <td>228.69</td>\n",
       "      <td>36.600000</td>\n",
       "      <td>formerly smoked</td>\n",
       "      <td>1</td>\n",
       "    </tr>\n",
       "    <tr>\n",
       "      <th>1</th>\n",
       "      <td>Female</td>\n",
       "      <td>61.0</td>\n",
       "      <td>0</td>\n",
       "      <td>0</td>\n",
       "      <td>Yes</td>\n",
       "      <td>Self_employed</td>\n",
       "      <td>Rural</td>\n",
       "      <td>202.21</td>\n",
       "      <td>28.995043</td>\n",
       "      <td>never smoked</td>\n",
       "      <td>1</td>\n",
       "    </tr>\n",
       "    <tr>\n",
       "      <th>2</th>\n",
       "      <td>Male</td>\n",
       "      <td>80.0</td>\n",
       "      <td>0</td>\n",
       "      <td>1</td>\n",
       "      <td>Yes</td>\n",
       "      <td>Private</td>\n",
       "      <td>Rural</td>\n",
       "      <td>105.92</td>\n",
       "      <td>32.500000</td>\n",
       "      <td>never smoked</td>\n",
       "      <td>1</td>\n",
       "    </tr>\n",
       "    <tr>\n",
       "      <th>3</th>\n",
       "      <td>Female</td>\n",
       "      <td>49.0</td>\n",
       "      <td>0</td>\n",
       "      <td>0</td>\n",
       "      <td>Yes</td>\n",
       "      <td>Private</td>\n",
       "      <td>Urban</td>\n",
       "      <td>171.23</td>\n",
       "      <td>34.400000</td>\n",
       "      <td>smokes</td>\n",
       "      <td>1</td>\n",
       "    </tr>\n",
       "    <tr>\n",
       "      <th>4</th>\n",
       "      <td>Female</td>\n",
       "      <td>79.0</td>\n",
       "      <td>1</td>\n",
       "      <td>0</td>\n",
       "      <td>Yes</td>\n",
       "      <td>Self_employed</td>\n",
       "      <td>Rural</td>\n",
       "      <td>174.12</td>\n",
       "      <td>24.000000</td>\n",
       "      <td>never smoked</td>\n",
       "      <td>1</td>\n",
       "    </tr>\n",
       "  </tbody>\n",
       "</table>\n",
       "</div>"
      ],
      "text/plain": [
       "   gender   age  hypertension  heart_disease ever_married      work_type  \\\n",
       "0    Male  67.0             0              1          Yes        Private   \n",
       "1  Female  61.0             0              0          Yes  Self_employed   \n",
       "2    Male  80.0             0              1          Yes        Private   \n",
       "3  Female  49.0             0              0          Yes        Private   \n",
       "4  Female  79.0             1              0          Yes  Self_employed   \n",
       "\n",
       "  Residence_type  avg_glucose_level        bmi   smoking_status  stroke  \n",
       "0          Urban             228.69  36.600000  formerly smoked       1  \n",
       "1          Rural             202.21  28.995043     never smoked       1  \n",
       "2          Rural             105.92  32.500000     never smoked       1  \n",
       "3          Urban             171.23  34.400000           smokes       1  \n",
       "4          Rural             174.12  24.000000     never smoked       1  "
      ]
     },
     "execution_count": 3,
     "metadata": {},
     "output_type": "execute_result"
    }
   ],
   "source": [
    "## Data Preparation from Phase 1\n",
    "\n",
    "# Dropping the id column\n",
    "stroke_data = stroke_data.drop(columns=['id'])\n",
    "# Dropping the rows with age less than 1\n",
    "stroke_data = stroke_data[stroke_data['age'] > 1] \n",
    "stroke_data['age'].describe()\n",
    "# Replacing missing values with mean\n",
    "stroke_data.bmi.replace(to_replace=np.nan, value=stroke_data.bmi.mean(), inplace=True)\n",
    "# Categorical Variables\n",
    "categoricalColumns = stroke_data.columns[stroke_data.dtypes==object].tolist()\n",
    "# Other category in gender removed as only 1 instance\n",
    "stroke_data = stroke_data[stroke_data['gender'] != 'Other']\n",
    "stroke_data['gender'].value_counts()\n",
    "# Replacing minus with underscore to avoid StatsModels modules confusion\n",
    "for col in categoricalColumns:\n",
    "    stroke_data[col] = stroke_data[col].str.replace('-', '_')\n",
    "stroke_data.head()"
   ]
  },
  {
   "cell_type": "code",
   "execution_count": 4,
   "metadata": {},
   "outputs": [
    {
     "data": {
      "text/html": [
       "<div>\n",
       "<style scoped>\n",
       "    .dataframe tbody tr th:only-of-type {\n",
       "        vertical-align: middle;\n",
       "    }\n",
       "\n",
       "    .dataframe tbody tr th {\n",
       "        vertical-align: top;\n",
       "    }\n",
       "\n",
       "    .dataframe thead th {\n",
       "        text-align: right;\n",
       "    }\n",
       "</style>\n",
       "<table border=\"1\" class=\"dataframe\">\n",
       "  <thead>\n",
       "    <tr style=\"text-align: right;\">\n",
       "      <th></th>\n",
       "      <th>gender</th>\n",
       "      <th>age</th>\n",
       "      <th>hypertension</th>\n",
       "      <th>heart_disease</th>\n",
       "      <th>ever_married</th>\n",
       "      <th>work_type</th>\n",
       "      <th>Residence_type</th>\n",
       "      <th>avg_glucose_level</th>\n",
       "      <th>bmi</th>\n",
       "      <th>smoking_status</th>\n",
       "      <th>stroke</th>\n",
       "    </tr>\n",
       "  </thead>\n",
       "  <tbody>\n",
       "    <tr>\n",
       "      <th>0</th>\n",
       "      <td>Male</td>\n",
       "      <td>67.0</td>\n",
       "      <td>0</td>\n",
       "      <td>1</td>\n",
       "      <td>Yes</td>\n",
       "      <td>Private</td>\n",
       "      <td>Urban</td>\n",
       "      <td>228.69</td>\n",
       "      <td>36.600000</td>\n",
       "      <td>formerly smoked</td>\n",
       "      <td>1</td>\n",
       "    </tr>\n",
       "    <tr>\n",
       "      <th>1</th>\n",
       "      <td>Female</td>\n",
       "      <td>61.0</td>\n",
       "      <td>0</td>\n",
       "      <td>0</td>\n",
       "      <td>Yes</td>\n",
       "      <td>Self_employed</td>\n",
       "      <td>Rural</td>\n",
       "      <td>202.21</td>\n",
       "      <td>28.995043</td>\n",
       "      <td>never smoked</td>\n",
       "      <td>1</td>\n",
       "    </tr>\n",
       "    <tr>\n",
       "      <th>2</th>\n",
       "      <td>Male</td>\n",
       "      <td>80.0</td>\n",
       "      <td>0</td>\n",
       "      <td>1</td>\n",
       "      <td>Yes</td>\n",
       "      <td>Private</td>\n",
       "      <td>Rural</td>\n",
       "      <td>105.92</td>\n",
       "      <td>32.500000</td>\n",
       "      <td>never smoked</td>\n",
       "      <td>1</td>\n",
       "    </tr>\n",
       "    <tr>\n",
       "      <th>3</th>\n",
       "      <td>Female</td>\n",
       "      <td>49.0</td>\n",
       "      <td>0</td>\n",
       "      <td>0</td>\n",
       "      <td>Yes</td>\n",
       "      <td>Private</td>\n",
       "      <td>Urban</td>\n",
       "      <td>171.23</td>\n",
       "      <td>34.400000</td>\n",
       "      <td>smokes</td>\n",
       "      <td>1</td>\n",
       "    </tr>\n",
       "    <tr>\n",
       "      <th>4</th>\n",
       "      <td>Female</td>\n",
       "      <td>79.0</td>\n",
       "      <td>1</td>\n",
       "      <td>0</td>\n",
       "      <td>Yes</td>\n",
       "      <td>Self_employed</td>\n",
       "      <td>Rural</td>\n",
       "      <td>174.12</td>\n",
       "      <td>24.000000</td>\n",
       "      <td>never smoked</td>\n",
       "      <td>1</td>\n",
       "    </tr>\n",
       "  </tbody>\n",
       "</table>\n",
       "</div>"
      ],
      "text/plain": [
       "   gender   age  hypertension  heart_disease ever_married      work_type  \\\n",
       "0    Male  67.0             0              1          Yes        Private   \n",
       "1  Female  61.0             0              0          Yes  Self_employed   \n",
       "2    Male  80.0             0              1          Yes        Private   \n",
       "3  Female  49.0             0              0          Yes        Private   \n",
       "4  Female  79.0             1              0          Yes  Self_employed   \n",
       "\n",
       "  Residence_type  avg_glucose_level        bmi   smoking_status  stroke  \n",
       "0          Urban             228.69  36.600000  formerly smoked       1  \n",
       "1          Rural             202.21  28.995043     never smoked       1  \n",
       "2          Rural             105.92  32.500000     never smoked       1  \n",
       "3          Urban             171.23  34.400000           smokes       1  \n",
       "4          Rural             174.12  24.000000     never smoked       1  "
      ]
     },
     "execution_count": 4,
     "metadata": {},
     "output_type": "execute_result"
    }
   ],
   "source": [
    "stroke_data.head()"
   ]
  },
  {
   "cell_type": "markdown",
   "metadata": {},
   "source": [
    "## Splitting Data and Target <a name=\"split\"></a>"
   ]
  },
  {
   "cell_type": "code",
   "execution_count": 5,
   "metadata": {},
   "outputs": [
    {
     "data": {
      "text/plain": [
       "0    4812\n",
       "1     249\n",
       "Name: stroke, dtype: int64"
      ]
     },
     "execution_count": 5,
     "metadata": {},
     "output_type": "execute_result"
    }
   ],
   "source": [
    "Data = stroke_data.drop(columns='stroke')\n",
    "target = stroke_data['stroke']\n",
    "target.value_counts()"
   ]
  },
  {
   "cell_type": "markdown",
   "metadata": {},
   "source": [
    "## One Hot Encoding <a name=\"encode\"></a>\n",
    "\n",
    "OneHotEncoder() was used to encode the categorical columns with more than 2 levels: 'work_type' and 'smoking_status. Then, LabelEncoder() was used to encode binary columns: 'gender', 'ever_married' and 'residence_type'."
   ]
  },
  {
   "cell_type": "code",
   "execution_count": 6,
   "metadata": {},
   "outputs": [
    {
     "name": "stdout",
     "output_type": "stream",
     "text": [
      "Unique values for gender\n",
      "['Male' 'Female']\n",
      "\n",
      "Unique values for ever_married\n",
      "['Yes' 'No']\n",
      "\n",
      "Unique values for work_type\n",
      "['Private' 'Self_employed' 'Govt_job' 'children' 'Never_worked']\n",
      "\n",
      "Unique values for Residence_type\n",
      "['Urban' 'Rural']\n",
      "\n",
      "Unique values for smoking_status\n",
      "['formerly smoked' 'never smoked' 'smokes' 'Unknown']\n",
      "\n"
     ]
    }
   ],
   "source": [
    "# Categorical Variables\n",
    "categoricalColumns = Data.columns[Data.dtypes==object].tolist()\n",
    "\n",
    "for col in categoricalColumns:\n",
    "    print('Unique values for ' + col)\n",
    "    print(Data[col].unique())\n",
    "    print('')"
   ]
  },
  {
   "cell_type": "code",
   "execution_count": 7,
   "metadata": {},
   "outputs": [],
   "source": [
    "for col in categoricalColumns:\n",
    "    n = len(Data[col].unique())\n",
    "    if (n == 2):\n",
    "        Data[col] = pd.get_dummies(Data[col], drop_first=True)\n",
    "   \n",
    "# use one-hot-encoding for categorical features with >2 levels\n",
    "Data = pd.get_dummies(Data)"
   ]
  },
  {
   "cell_type": "code",
   "execution_count": 8,
   "metadata": {},
   "outputs": [
    {
     "data": {
      "text/plain": [
       "Index(['gender', 'age', 'hypertension', 'heart_disease', 'ever_married',\n",
       "       'Residence_type', 'avg_glucose_level', 'bmi', 'work_type_Govt_job',\n",
       "       'work_type_Never_worked', 'work_type_Private',\n",
       "       'work_type_Self_employed', 'work_type_children',\n",
       "       'smoking_status_Unknown', 'smoking_status_formerly smoked',\n",
       "       'smoking_status_never smoked', 'smoking_status_smokes'],\n",
       "      dtype='object')"
      ]
     },
     "execution_count": 8,
     "metadata": {},
     "output_type": "execute_result"
    }
   ],
   "source": [
    "Data.columns"
   ]
  },
  {
   "cell_type": "code",
   "execution_count": 9,
   "metadata": {},
   "outputs": [
    {
     "data": {
      "text/html": [
       "<div>\n",
       "<style scoped>\n",
       "    .dataframe tbody tr th:only-of-type {\n",
       "        vertical-align: middle;\n",
       "    }\n",
       "\n",
       "    .dataframe tbody tr th {\n",
       "        vertical-align: top;\n",
       "    }\n",
       "\n",
       "    .dataframe thead th {\n",
       "        text-align: right;\n",
       "    }\n",
       "</style>\n",
       "<table border=\"1\" class=\"dataframe\">\n",
       "  <thead>\n",
       "    <tr style=\"text-align: right;\">\n",
       "      <th></th>\n",
       "      <th>gender</th>\n",
       "      <th>age</th>\n",
       "      <th>hypertension</th>\n",
       "      <th>heart_disease</th>\n",
       "      <th>ever_married</th>\n",
       "      <th>Residence_type</th>\n",
       "      <th>avg_glucose_level</th>\n",
       "      <th>bmi</th>\n",
       "      <th>work_type_Govt_job</th>\n",
       "      <th>work_type_Never_worked</th>\n",
       "      <th>work_type_Private</th>\n",
       "      <th>work_type_Self_employed</th>\n",
       "      <th>work_type_children</th>\n",
       "      <th>smoking_status_Unknown</th>\n",
       "      <th>smoking_status_formerly smoked</th>\n",
       "      <th>smoking_status_never smoked</th>\n",
       "      <th>smoking_status_smokes</th>\n",
       "    </tr>\n",
       "  </thead>\n",
       "  <tbody>\n",
       "    <tr>\n",
       "      <th>2337</th>\n",
       "      <td>0</td>\n",
       "      <td>21.00</td>\n",
       "      <td>0</td>\n",
       "      <td>0</td>\n",
       "      <td>0</td>\n",
       "      <td>0</td>\n",
       "      <td>59.52</td>\n",
       "      <td>33.7</td>\n",
       "      <td>0</td>\n",
       "      <td>0</td>\n",
       "      <td>1</td>\n",
       "      <td>0</td>\n",
       "      <td>0</td>\n",
       "      <td>0</td>\n",
       "      <td>0</td>\n",
       "      <td>1</td>\n",
       "      <td>0</td>\n",
       "    </tr>\n",
       "    <tr>\n",
       "      <th>4617</th>\n",
       "      <td>1</td>\n",
       "      <td>57.00</td>\n",
       "      <td>0</td>\n",
       "      <td>0</td>\n",
       "      <td>1</td>\n",
       "      <td>1</td>\n",
       "      <td>75.53</td>\n",
       "      <td>33.1</td>\n",
       "      <td>1</td>\n",
       "      <td>0</td>\n",
       "      <td>0</td>\n",
       "      <td>0</td>\n",
       "      <td>0</td>\n",
       "      <td>0</td>\n",
       "      <td>1</td>\n",
       "      <td>0</td>\n",
       "      <td>0</td>\n",
       "    </tr>\n",
       "    <tr>\n",
       "      <th>2952</th>\n",
       "      <td>1</td>\n",
       "      <td>34.00</td>\n",
       "      <td>0</td>\n",
       "      <td>0</td>\n",
       "      <td>0</td>\n",
       "      <td>1</td>\n",
       "      <td>72.75</td>\n",
       "      <td>22.2</td>\n",
       "      <td>1</td>\n",
       "      <td>0</td>\n",
       "      <td>0</td>\n",
       "      <td>0</td>\n",
       "      <td>0</td>\n",
       "      <td>1</td>\n",
       "      <td>0</td>\n",
       "      <td>0</td>\n",
       "      <td>0</td>\n",
       "    </tr>\n",
       "    <tr>\n",
       "      <th>1609</th>\n",
       "      <td>0</td>\n",
       "      <td>1.24</td>\n",
       "      <td>0</td>\n",
       "      <td>0</td>\n",
       "      <td>0</td>\n",
       "      <td>0</td>\n",
       "      <td>122.04</td>\n",
       "      <td>10.3</td>\n",
       "      <td>0</td>\n",
       "      <td>0</td>\n",
       "      <td>0</td>\n",
       "      <td>0</td>\n",
       "      <td>1</td>\n",
       "      <td>1</td>\n",
       "      <td>0</td>\n",
       "      <td>0</td>\n",
       "      <td>0</td>\n",
       "    </tr>\n",
       "    <tr>\n",
       "      <th>1505</th>\n",
       "      <td>1</td>\n",
       "      <td>46.00</td>\n",
       "      <td>0</td>\n",
       "      <td>0</td>\n",
       "      <td>1</td>\n",
       "      <td>0</td>\n",
       "      <td>59.05</td>\n",
       "      <td>28.3</td>\n",
       "      <td>0</td>\n",
       "      <td>0</td>\n",
       "      <td>1</td>\n",
       "      <td>0</td>\n",
       "      <td>0</td>\n",
       "      <td>0</td>\n",
       "      <td>1</td>\n",
       "      <td>0</td>\n",
       "      <td>0</td>\n",
       "    </tr>\n",
       "  </tbody>\n",
       "</table>\n",
       "</div>"
      ],
      "text/plain": [
       "      gender    age  hypertension  heart_disease  ever_married  \\\n",
       "2337       0  21.00             0              0             0   \n",
       "4617       1  57.00             0              0             1   \n",
       "2952       1  34.00             0              0             0   \n",
       "1609       0   1.24             0              0             0   \n",
       "1505       1  46.00             0              0             1   \n",
       "\n",
       "      Residence_type  avg_glucose_level   bmi  work_type_Govt_job  \\\n",
       "2337               0              59.52  33.7                   0   \n",
       "4617               1              75.53  33.1                   1   \n",
       "2952               1              72.75  22.2                   1   \n",
       "1609               0             122.04  10.3                   0   \n",
       "1505               0              59.05  28.3                   0   \n",
       "\n",
       "      work_type_Never_worked  work_type_Private  work_type_Self_employed  \\\n",
       "2337                       0                  1                        0   \n",
       "4617                       0                  0                        0   \n",
       "2952                       0                  0                        0   \n",
       "1609                       0                  0                        0   \n",
       "1505                       0                  1                        0   \n",
       "\n",
       "      work_type_children  smoking_status_Unknown  \\\n",
       "2337                   0                       0   \n",
       "4617                   0                       0   \n",
       "2952                   0                       1   \n",
       "1609                   1                       1   \n",
       "1505                   0                       0   \n",
       "\n",
       "      smoking_status_formerly smoked  smoking_status_never smoked  \\\n",
       "2337                               0                            1   \n",
       "4617                               1                            0   \n",
       "2952                               0                            0   \n",
       "1609                               0                            0   \n",
       "1505                               1                            0   \n",
       "\n",
       "      smoking_status_smokes  \n",
       "2337                      0  \n",
       "4617                      0  \n",
       "2952                      0  \n",
       "1609                      0  \n",
       "1505                      0  "
      ]
     },
     "execution_count": 9,
     "metadata": {},
     "output_type": "execute_result"
    }
   ],
   "source": [
    "Data.sample(5, random_state=999)"
   ]
  },
  {
   "cell_type": "markdown",
   "metadata": {},
   "source": [
    "## Scaling and Normalising Features <a name=\"features\"></a>\n",
    "\n",
    "Scaling and Normalization was done by using the MinMaxScaler function. The scaling is done to avoid the algorithms making assumptions where the data is varied with range of values. The copy of the dataframe is created to keep the data of the names of columns."
   ]
  },
  {
   "cell_type": "code",
   "execution_count": 10,
   "metadata": {},
   "outputs": [],
   "source": [
    "# Scaling\n",
    "from sklearn import preprocessing\n",
    "\n",
    "Data_df = Data.copy()\n",
    "\n",
    "Data_scaler = preprocessing.MinMaxScaler()\n",
    "Data_scaler.fit(Data)\n",
    "Data = Data_scaler.fit_transform(Data)"
   ]
  },
  {
   "cell_type": "code",
   "execution_count": 11,
   "metadata": {},
   "outputs": [
    {
     "data": {
      "text/html": [
       "<div>\n",
       "<style scoped>\n",
       "    .dataframe tbody tr th:only-of-type {\n",
       "        vertical-align: middle;\n",
       "    }\n",
       "\n",
       "    .dataframe tbody tr th {\n",
       "        vertical-align: top;\n",
       "    }\n",
       "\n",
       "    .dataframe thead th {\n",
       "        text-align: right;\n",
       "    }\n",
       "</style>\n",
       "<table border=\"1\" class=\"dataframe\">\n",
       "  <thead>\n",
       "    <tr style=\"text-align: right;\">\n",
       "      <th></th>\n",
       "      <th>gender</th>\n",
       "      <th>age</th>\n",
       "      <th>hypertension</th>\n",
       "      <th>heart_disease</th>\n",
       "      <th>ever_married</th>\n",
       "      <th>Residence_type</th>\n",
       "      <th>avg_glucose_level</th>\n",
       "      <th>bmi</th>\n",
       "      <th>work_type_Govt_job</th>\n",
       "      <th>work_type_Never_worked</th>\n",
       "      <th>work_type_Private</th>\n",
       "      <th>work_type_Self_employed</th>\n",
       "      <th>work_type_children</th>\n",
       "      <th>smoking_status_Unknown</th>\n",
       "      <th>smoking_status_formerly smoked</th>\n",
       "      <th>smoking_status_never smoked</th>\n",
       "      <th>smoking_status_smokes</th>\n",
       "    </tr>\n",
       "  </thead>\n",
       "  <tbody>\n",
       "    <tr>\n",
       "      <th>2316</th>\n",
       "      <td>0.0</td>\n",
       "      <td>0.246169</td>\n",
       "      <td>0.0</td>\n",
       "      <td>0.0</td>\n",
       "      <td>0.0</td>\n",
       "      <td>0.0</td>\n",
       "      <td>0.020312</td>\n",
       "      <td>0.268041</td>\n",
       "      <td>0.0</td>\n",
       "      <td>0.0</td>\n",
       "      <td>1.0</td>\n",
       "      <td>0.0</td>\n",
       "      <td>0.0</td>\n",
       "      <td>0.0</td>\n",
       "      <td>0.0</td>\n",
       "      <td>1.0</td>\n",
       "      <td>0.0</td>\n",
       "    </tr>\n",
       "    <tr>\n",
       "      <th>4572</th>\n",
       "      <td>1.0</td>\n",
       "      <td>0.691053</td>\n",
       "      <td>0.0</td>\n",
       "      <td>0.0</td>\n",
       "      <td>1.0</td>\n",
       "      <td>1.0</td>\n",
       "      <td>0.094220</td>\n",
       "      <td>0.261168</td>\n",
       "      <td>1.0</td>\n",
       "      <td>0.0</td>\n",
       "      <td>0.0</td>\n",
       "      <td>0.0</td>\n",
       "      <td>0.0</td>\n",
       "      <td>0.0</td>\n",
       "      <td>1.0</td>\n",
       "      <td>0.0</td>\n",
       "      <td>0.0</td>\n",
       "    </tr>\n",
       "    <tr>\n",
       "      <th>2923</th>\n",
       "      <td>1.0</td>\n",
       "      <td>0.406822</td>\n",
       "      <td>0.0</td>\n",
       "      <td>0.0</td>\n",
       "      <td>0.0</td>\n",
       "      <td>1.0</td>\n",
       "      <td>0.081387</td>\n",
       "      <td>0.136312</td>\n",
       "      <td>1.0</td>\n",
       "      <td>0.0</td>\n",
       "      <td>0.0</td>\n",
       "      <td>0.0</td>\n",
       "      <td>0.0</td>\n",
       "      <td>1.0</td>\n",
       "      <td>0.0</td>\n",
       "      <td>0.0</td>\n",
       "      <td>0.0</td>\n",
       "    </tr>\n",
       "    <tr>\n",
       "      <th>1597</th>\n",
       "      <td>0.0</td>\n",
       "      <td>0.001977</td>\n",
       "      <td>0.0</td>\n",
       "      <td>0.0</td>\n",
       "      <td>0.0</td>\n",
       "      <td>0.0</td>\n",
       "      <td>0.308928</td>\n",
       "      <td>0.000000</td>\n",
       "      <td>0.0</td>\n",
       "      <td>0.0</td>\n",
       "      <td>0.0</td>\n",
       "      <td>0.0</td>\n",
       "      <td>1.0</td>\n",
       "      <td>1.0</td>\n",
       "      <td>0.0</td>\n",
       "      <td>0.0</td>\n",
       "      <td>0.0</td>\n",
       "    </tr>\n",
       "    <tr>\n",
       "      <th>1494</th>\n",
       "      <td>1.0</td>\n",
       "      <td>0.555116</td>\n",
       "      <td>0.0</td>\n",
       "      <td>0.0</td>\n",
       "      <td>1.0</td>\n",
       "      <td>0.0</td>\n",
       "      <td>0.018142</td>\n",
       "      <td>0.206186</td>\n",
       "      <td>0.0</td>\n",
       "      <td>0.0</td>\n",
       "      <td>1.0</td>\n",
       "      <td>0.0</td>\n",
       "      <td>0.0</td>\n",
       "      <td>0.0</td>\n",
       "      <td>1.0</td>\n",
       "      <td>0.0</td>\n",
       "      <td>0.0</td>\n",
       "    </tr>\n",
       "  </tbody>\n",
       "</table>\n",
       "</div>"
      ],
      "text/plain": [
       "      gender       age  hypertension  heart_disease  ever_married  \\\n",
       "2316     0.0  0.246169           0.0            0.0           0.0   \n",
       "4572     1.0  0.691053           0.0            0.0           1.0   \n",
       "2923     1.0  0.406822           0.0            0.0           0.0   \n",
       "1597     0.0  0.001977           0.0            0.0           0.0   \n",
       "1494     1.0  0.555116           0.0            0.0           1.0   \n",
       "\n",
       "      Residence_type  avg_glucose_level       bmi  work_type_Govt_job  \\\n",
       "2316             0.0           0.020312  0.268041                 0.0   \n",
       "4572             1.0           0.094220  0.261168                 1.0   \n",
       "2923             1.0           0.081387  0.136312                 1.0   \n",
       "1597             0.0           0.308928  0.000000                 0.0   \n",
       "1494             0.0           0.018142  0.206186                 0.0   \n",
       "\n",
       "      work_type_Never_worked  work_type_Private  work_type_Self_employed  \\\n",
       "2316                     0.0                1.0                      0.0   \n",
       "4572                     0.0                0.0                      0.0   \n",
       "2923                     0.0                0.0                      0.0   \n",
       "1597                     0.0                0.0                      0.0   \n",
       "1494                     0.0                1.0                      0.0   \n",
       "\n",
       "      work_type_children  smoking_status_Unknown  \\\n",
       "2316                 0.0                     0.0   \n",
       "4572                 0.0                     0.0   \n",
       "2923                 0.0                     1.0   \n",
       "1597                 1.0                     1.0   \n",
       "1494                 0.0                     0.0   \n",
       "\n",
       "      smoking_status_formerly smoked  smoking_status_never smoked  \\\n",
       "2316                             0.0                          1.0   \n",
       "4572                             1.0                          0.0   \n",
       "2923                             0.0                          0.0   \n",
       "1597                             0.0                          0.0   \n",
       "1494                             1.0                          0.0   \n",
       "\n",
       "      smoking_status_smokes  \n",
       "2316                    0.0  \n",
       "4572                    0.0  \n",
       "2923                    0.0  \n",
       "1597                    0.0  \n",
       "1494                    0.0  "
      ]
     },
     "execution_count": 11,
     "metadata": {},
     "output_type": "execute_result"
    }
   ],
   "source": [
    "pd.DataFrame(Data, columns=Data_df.columns).sample(5, random_state=999)"
   ]
  },
  {
   "cell_type": "markdown",
   "metadata": {},
   "source": [
    "# Predictive Modelling <a name=\"predict\"></a>"
   ]
  },
  {
   "cell_type": "markdown",
   "metadata": {},
   "source": [
    "## Feature Selection <a name=\"select\"></a>\n",
    "\n",
    "Various feature selection techniques were used to analyze the optimal features. The code snippets below provided set of prediction results for different number of features. On the basis of prediction results, the 10 features were considered as the best features. "
   ]
  },
  {
   "cell_type": "markdown",
   "metadata": {},
   "source": [
    "### Performance with All Features <a name=\"fullselect\"></a>"
   ]
  },
  {
   "cell_type": "code",
   "execution_count": 12,
   "metadata": {},
   "outputs": [
    {
     "data": {
      "text/plain": [
       "array([0.60300104, 0.54453222, 0.53673597, 0.56349272, 0.58075317,\n",
       "       0.56196262, 0.54985447, 0.53505198, 0.55089397, 0.61344226,\n",
       "       0.52403946, 0.58141372, 0.53661123, 0.55089397, 0.57556107])"
      ]
     },
     "execution_count": 12,
     "metadata": {},
     "output_type": "execute_result"
    }
   ],
   "source": [
    "from sklearn.tree import DecisionTreeClassifier\n",
    "from sklearn.model_selection import cross_val_score, RepeatedStratifiedKFold\n",
    "from sklearn.model_selection import StratifiedKFold\n",
    "from sklearn.svm import SVC\n",
    "from sklearn import metrics\n",
    "\n",
    "clf = DecisionTreeClassifier(random_state=999)\n",
    "cv_method = RepeatedStratifiedKFold(n_splits=5, \n",
    "                                     n_repeats=3,\n",
    "                                     random_state=999)\n",
    "scoring_metric = 'roc_auc'\n",
    "cv_results_full = cross_val_score(estimator=clf,\n",
    "                             X=Data,\n",
    "                             y=target, \n",
    "                             cv=cv_method, \n",
    "                             scoring=scoring_metric)\n",
    "cv_results_full"
   ]
  },
  {
   "cell_type": "code",
   "execution_count": 13,
   "metadata": {},
   "outputs": [
    {
     "data": {
      "text/plain": [
       "0.561"
      ]
     },
     "execution_count": 13,
     "metadata": {},
     "output_type": "execute_result"
    }
   ],
   "source": [
    "cv_results_full.mean().round(3)"
   ]
  },
  {
   "cell_type": "markdown",
   "metadata": {},
   "source": [
    "### Random Forest Importance Feature Selection <a name=\"RFIselect\"></a>"
   ]
  },
  {
   "cell_type": "code",
   "execution_count": 14,
   "metadata": {},
   "outputs": [
    {
     "data": {
      "text/plain": [
       "array(['avg_glucose_level', 'age', 'bmi', 'Residence_type', 'gender',\n",
       "       'hypertension', 'heart_disease', 'smoking_status_never smoked',\n",
       "       'work_type_Private', 'ever_married'], dtype=object)"
      ]
     },
     "execution_count": 14,
     "metadata": {},
     "output_type": "execute_result"
    }
   ],
   "source": [
    "# Feature Selection and Ranking\n",
    "from sklearn.ensemble import RandomForestClassifier\n",
    "\n",
    "num_features = 10\n",
    "model_rfi = RandomForestClassifier(n_estimators=100)\n",
    "model_rfi.fit(Data, target)\n",
    "fs_indices_rfi = np.argsort(model_rfi.feature_importances_)[::-1][0:num_features]\n",
    "\n",
    "best_features_rfi = Data_df.columns[fs_indices_rfi].values\n",
    "best_features_rfi"
   ]
  },
  {
   "cell_type": "code",
   "execution_count": 15,
   "metadata": {},
   "outputs": [
    {
     "data": {
      "text/plain": [
       "array([0.27490563, 0.23652284, 0.22777885, 0.03569812, 0.03156218,\n",
       "       0.02654328, 0.02230684, 0.02113187, 0.01967606, 0.01869814])"
      ]
     },
     "execution_count": 15,
     "metadata": {},
     "output_type": "execute_result"
    }
   ],
   "source": [
    "feature_importances_rfi = model_rfi.feature_importances_[fs_indices_rfi]\n",
    "feature_importances_rfi"
   ]
  },
  {
   "cell_type": "code",
   "execution_count": 16,
   "metadata": {},
   "outputs": [],
   "source": [
    "import matplotlib.pyplot as plt\n",
    "%matplotlib inline \n",
    "%config InlineBackend.figure_format = 'retina'\n",
    "plt.style.use(\"ggplot\")\n",
    "\n",
    "def plot_imp(best_features, scores, method_name):   \n",
    "    plt.barh(best_features, scores)\n",
    "    plt.title(method_name + ' Feature Importances')\n",
    "    plt.xlabel(\"Importance\")\n",
    "    plt.ylabel(\"Features\")\n",
    "    plt.show()\n",
    "    "
   ]
  },
  {
   "cell_type": "code",
   "execution_count": 17,
   "metadata": {},
   "outputs": [
    {
     "data": {
      "image/png": "[encoded data removed]",
      "text/plain": [
       "<Figure size 432x288 with 1 Axes>"
      ]
     },
     "metadata": {
      "image/png": {
       "height": 281,
       "width": 527
      }
     },
     "output_type": "display_data"
    }
   ],
   "source": [
    "plot_imp(best_features_rfi, feature_importances_rfi, 'Random Forest')"
   ]
  },
  {
   "cell_type": "code",
   "execution_count": 18,
   "metadata": {},
   "outputs": [
    {
     "data": {
      "text/plain": [
       "0.559"
      ]
     },
     "execution_count": 18,
     "metadata": {},
     "output_type": "execute_result"
    }
   ],
   "source": [
    "cv_results_rfi = cross_val_score(estimator=clf,\n",
    "                             X=Data[:, fs_indices_rfi],\n",
    "                             y=target, \n",
    "                             cv=cv_method, \n",
    "                             scoring=scoring_metric)\n",
    "cv_results_rfi.mean().round(3)"
   ]
  },
  {
   "cell_type": "markdown",
   "metadata": {},
   "source": [
    "### F Score Feature Selection <a name=\"fscoreselect\"></a>"
   ]
  },
  {
   "cell_type": "code",
   "execution_count": 19,
   "metadata": {},
   "outputs": [
    {
     "data": {
      "text/plain": [
       "array([ 1,  3,  6,  2,  4, 12, 14, 11, 13,  7], dtype=int64)"
      ]
     },
     "execution_count": 19,
     "metadata": {},
     "output_type": "execute_result"
    }
   ],
   "source": [
    "# Using F-score\n",
    "from sklearn import feature_selection\n",
    "fs_fit_fscore = feature_selection.SelectKBest(feature_selection.f_classif, k=num_features)\n",
    "fs_fit_fscore.fit_transform(Data, target)\n",
    "fs_indices_fscore = np.argsort(np.nan_to_num(fs_fit_fscore.scores_))[::-1][0:num_features]\n",
    "fs_indices_fscore"
   ]
  },
  {
   "cell_type": "code",
   "execution_count": 20,
   "metadata": {},
   "outputs": [
    {
     "data": {
      "text/plain": [
       "array(['age', 'heart_disease', 'avg_glucose_level', 'hypertension',\n",
       "       'ever_married', 'work_type_children',\n",
       "       'smoking_status_formerly smoked', 'work_type_Self_employed',\n",
       "       'smoking_status_Unknown', 'bmi'], dtype=object)"
      ]
     },
     "execution_count": 20,
     "metadata": {},
     "output_type": "execute_result"
    }
   ],
   "source": [
    "best_features_fscore = Data_df.columns[fs_indices_fscore].values\n",
    "best_features_fscore"
   ]
  },
  {
   "cell_type": "code",
   "execution_count": 21,
   "metadata": {},
   "outputs": [
    {
     "data": {
      "text/plain": [
       "array([324.2540689 ,  93.1494993 ,  89.59605355,  83.30886782,\n",
       "        57.84664076,  33.38760762,  20.66333784,  19.07108908,\n",
       "        14.39166861,   6.84755514])"
      ]
     },
     "execution_count": 21,
     "metadata": {},
     "output_type": "execute_result"
    }
   ],
   "source": [
    "feature_importances_fscore = fs_fit_fscore.scores_[fs_indices_fscore]\n",
    "feature_importances_fscore"
   ]
  },
  {
   "cell_type": "code",
   "execution_count": 22,
   "metadata": {},
   "outputs": [],
   "source": [
    "import matplotlib.pyplot as plt\n",
    "%matplotlib inline \n",
    "%config InlineBackend.figure_format = 'retina'\n",
    "plt.style.use(\"ggplot\")\n",
    "\n",
    "def plot_imp(best_features, scores, method_name):   \n",
    "    plt.barh(best_features, scores)\n",
    "    plt.title(method_name + ' Feature Importances')\n",
    "    plt.xlabel(\"Importance\")\n",
    "    plt.ylabel(\"Features\")\n",
    "    plt.show()"
   ]
  },
  {
   "cell_type": "code",
   "execution_count": 23,
   "metadata": {},
   "outputs": [
    {
     "data": {
      "image/png": "[encoded data removed]",
      "text/plain": [
       "<Figure size 432x288 with 1 Axes>"
      ]
     },
     "metadata": {
      "image/png": {
       "height": 281,
       "width": 541
      }
     },
     "output_type": "display_data"
    }
   ],
   "source": [
    "plot_imp(best_features_fscore, feature_importances_fscore, 'F-Score')"
   ]
  },
  {
   "cell_type": "code",
   "execution_count": 24,
   "metadata": {},
   "outputs": [
    {
     "data": {
      "text/plain": [
       "(5061, 10)"
      ]
     },
     "execution_count": 24,
     "metadata": {},
     "output_type": "execute_result"
    }
   ],
   "source": [
    "Data[:, fs_indices_fscore].shape"
   ]
  },
  {
   "cell_type": "code",
   "execution_count": 25,
   "metadata": {},
   "outputs": [
    {
     "data": {
      "text/plain": [
       "0.572"
      ]
     },
     "execution_count": 25,
     "metadata": {},
     "output_type": "execute_result"
    }
   ],
   "source": [
    "cv_results_fscore = cross_val_score(estimator=clf,\n",
    "                             X=Data[:, fs_indices_fscore],\n",
    "                             y=target, \n",
    "                             cv=cv_method, \n",
    "                             scoring=scoring_metric)\n",
    "cv_results_fscore.mean().round(3)"
   ]
  },
  {
   "cell_type": "markdown",
   "metadata": {},
   "source": [
    "### Performance Comparison of Feature Selection Methods <a name=\"performselect\"></a>\n",
    "\n",
    "In contrast to the other feature selection methods, overall, F-Score presented the best results. The Full Set and Random Forest selection method had almost similar results indicating both the models performed fairly well. Moreover, there were no significant differences between all the prediction results."
   ]
  },
  {
   "cell_type": "code",
   "execution_count": 26,
   "metadata": {},
   "outputs": [
    {
     "name": "stdout",
     "output_type": "stream",
     "text": [
      "Full Set of Features: 0.561\n",
      "F-Score: 0.572\n",
      "RFI: 0.559\n"
     ]
    }
   ],
   "source": [
    "print('Full Set of Features:', cv_results_full.mean().round(3))\n",
    "print('F-Score:', cv_results_fscore.mean().round(3))\n",
    "print('RFI:', cv_results_rfi.mean().round(3))"
   ]
  },
  {
   "cell_type": "markdown",
   "metadata": {},
   "source": [
    "## Model Fitting & Tuning <a name=\"tuning\"></a>\n",
    "\n",
    "In this section of the report, a 70:30 train-test proportion was considered for model fitting & tuning.  In comparison to the Random Forest, the D train fs and D test fs (training and testing sets) contained the 10 best features picked based on F-score.\n",
    "Further, Hyper-Parameter-tuning of Support Vector Machine, K_Nearest Neighbors, Gaussian Naive Bayes, Decision Tree and Naive Bayes models were carried out. Grid Search method and AUC curve as a scoring metric were applied for all the models. Since the dataset was severely unbalanced, the AUC curve was employed which performs best on biased datasets and in ranking predictions. The optimal parameters were chosen from the models that produced the best results after iterating with a set of parameters."
   ]
  },
  {
   "cell_type": "markdown",
   "metadata": {},
   "source": [
    "### Train-Test Split <a name=\"ttsplit\"></a>"
   ]
  },
  {
   "cell_type": "code",
   "execution_count": 27,
   "metadata": {},
   "outputs": [
    {
     "name": "stdout",
     "output_type": "stream",
     "text": [
      "(3542, 17)\n",
      "(1519, 17)\n"
     ]
    }
   ],
   "source": [
    "## Model Fitting and Tuning\n",
    "from sklearn.model_selection import train_test_split\n",
    "\n",
    "Data_train, Data_test, target_train, target_test = train_test_split(Data, target, \n",
    "                                                    test_size = 0.3, random_state=999,\n",
    "                                                    stratify = target)\n",
    "\n",
    "print(Data_train.shape)\n",
    "print(Data_test.shape)"
   ]
  },
  {
   "cell_type": "markdown",
   "metadata": {},
   "source": [
    "### Select the Ten Best Features <a name=\"ten\"></a>"
   ]
  },
  {
   "cell_type": "code",
   "execution_count": 28,
   "metadata": {},
   "outputs": [],
   "source": [
    "# selecting 10 best features\n",
    "D_train_fs = Data_train[:, fs_indices_fscore]\n",
    "D_test_fs = Data_test[:, fs_indices_fscore]"
   ]
  },
  {
   "cell_type": "markdown",
   "metadata": {},
   "source": [
    "### Prediction & Performance Metric Scores of Different Models <a name=\"modscores\"></a>"
   ]
  },
  {
   "cell_type": "code",
   "execution_count": 29,
   "metadata": {},
   "outputs": [],
   "source": [
    "from sklearn.neighbors import KNeighborsClassifier\n",
    "from sklearn.naive_bayes import GaussianNB\n",
    "from sklearn.svm import SVC\n",
    "from sklearn.tree import DecisionTreeClassifier\n",
    "from sklearn.ensemble import RandomForestClassifier"
   ]
  },
  {
   "cell_type": "code",
   "execution_count": 30,
   "metadata": {},
   "outputs": [],
   "source": [
    "from sklearn.metrics import accuracy_score, confusion_matrix, roc_auc_score, ConfusionMatrixDisplay, precision_score, recall_score, f1_score, classification_report, roc_curve, plot_roc_curve, auc, precision_recall_curve, plot_precision_recall_curve, average_precision_score\n",
    "from sklearn.model_selection import cross_val_score"
   ]
  },
  {
   "cell_type": "code",
   "execution_count": 31,
   "metadata": {},
   "outputs": [
    {
     "name": "stdout",
     "output_type": "stream",
     "text": [
      "SVM :\n",
      "[[1444    0]\n",
      " [  75    0]]\n",
      "Accuracy Score:  0.9506254114549045\n",
      "\n",
      "K-Fold Validation Mean Accuracy: 95.09 %\n",
      "\n",
      "Standard Deviation: 0.13 %\n",
      "\n",
      "ROC AUC Score: 0.50\n",
      "\n",
      "Precision: 0.00\n",
      "\n",
      "Recall: 0.00\n",
      "\n",
      "F1: 0.00\n",
      "-----------------------------------\n",
      "\n",
      "KNeighbors :\n",
      "[[1439    5]\n",
      " [  71    4]]\n",
      "Accuracy Score:  0.9499670836076366\n",
      "\n",
      "K-Fold Validation Mean Accuracy: 94.58 %\n",
      "\n",
      "Standard Deviation: 0.43 %\n",
      "\n",
      "ROC AUC Score: 0.52\n",
      "\n",
      "Precision: 0.44\n",
      "\n",
      "Recall: 0.05\n",
      "\n",
      "F1: 0.10\n",
      "-----------------------------------\n",
      "\n",
      "GaussianNB :\n",
      "[[1232  212]\n",
      " [  39   36]]\n",
      "Accuracy Score:  0.8347597103357473\n",
      "\n",
      "K-Fold Validation Mean Accuracy: 82.47 %\n",
      "\n",
      "Standard Deviation: 1.87 %\n",
      "\n",
      "ROC AUC Score: 0.67\n",
      "\n",
      "Precision: 0.15\n",
      "\n",
      "Recall: 0.48\n",
      "\n",
      "F1: 0.22\n",
      "-----------------------------------\n",
      "\n",
      "Decision Tree :\n",
      "[[1391   53]\n",
      " [  64   11]]\n",
      "Accuracy Score:  0.9229756418696511\n",
      "\n",
      "K-Fold Validation Mean Accuracy: 90.40 %\n",
      "\n",
      "Standard Deviation: 1.07 %\n",
      "\n",
      "ROC AUC Score: 0.55\n",
      "\n",
      "Precision: 0.17\n",
      "\n",
      "Recall: 0.15\n",
      "\n",
      "F1: 0.16\n",
      "-----------------------------------\n",
      "\n",
      "Random Forest :\n",
      "[[1440    4]\n",
      " [  72    3]]\n",
      "Accuracy Score:  0.9499670836076366\n",
      "\n",
      "K-Fold Validation Mean Accuracy: 94.78 %\n",
      "\n",
      "Standard Deviation: 0.44 %\n",
      "\n",
      "ROC AUC Score: 0.52\n",
      "\n",
      "Precision: 0.43\n",
      "\n",
      "Recall: 0.04\n",
      "\n",
      "F1: 0.07\n",
      "-----------------------------------\n",
      "\n"
     ]
    }
   ],
   "source": [
    "models = []\n",
    "models.append(['SVM', SVC(random_state=0)])\n",
    "models.append(['KNeighbors', KNeighborsClassifier()])\n",
    "models.append(['GaussianNB', GaussianNB()])\n",
    "models.append(['Decision Tree', DecisionTreeClassifier(random_state=0)])\n",
    "models.append(['Random Forest', RandomForestClassifier(random_state=0)])\n",
    "\n",
    "\n",
    "lst_1= []\n",
    "\n",
    "for m in range(len(models)):\n",
    "    lst_2= []\n",
    "    model = models[m][1]\n",
    "    model.fit(D_train_fs, target_train)\n",
    "    target_pred = model.predict(D_test_fs)\n",
    "    cm = confusion_matrix(target_test, target_pred)  #Confusion Matrix\n",
    "    accuracies = cross_val_score(estimator = model, X = D_train_fs, y = target_train, cv = 10)   #K-Fold Validation\n",
    "    roc = roc_auc_score(target_test, target_pred)  #ROC AUC Score\n",
    "    precision = precision_score(target_test, target_pred)  #Precision Score\n",
    "    recall = recall_score(target_test, target_pred)  #Recall Score\n",
    "    f1 = f1_score(target_test, target_pred)  #F1 Score\n",
    "    print(models[m][0],':')\n",
    "    print(cm)\n",
    "    print('Accuracy Score: ',accuracy_score(target_test, target_pred))\n",
    "    print('')\n",
    "    print(\"K-Fold Validation Mean Accuracy: {:.2f} %\".format(accuracies.mean()*100))\n",
    "    print('')\n",
    "    print(\"Standard Deviation: {:.2f} %\".format(accuracies.std()*100))\n",
    "    print('')\n",
    "    print('ROC AUC Score: {:.2f}'.format(roc))\n",
    "    print('')\n",
    "    print('Precision: {:.2f}'.format(precision))\n",
    "    print('')\n",
    "    print('Recall: {:.2f}'.format(recall))\n",
    "    print('')\n",
    "    print('F1: {:.2f}'.format(f1))\n",
    "    print('-----------------------------------')\n",
    "    print('')\n",
    "    lst_2.append(models[m][0])\n",
    "    lst_2.append((accuracy_score(target_test, target_pred))*100) \n",
    "    lst_2.append(accuracies.mean()*100)\n",
    "    lst_2.append(accuracies.std()*100)\n",
    "    lst_2.append(roc)\n",
    "    lst_2.append(precision)\n",
    "    lst_2.append(recall)\n",
    "    lst_2.append(f1)\n",
    "    lst_1.append(lst_2)"
   ]
  },
  {
   "cell_type": "code",
   "execution_count": 32,
   "metadata": {},
   "outputs": [],
   "source": [
    "df = pd.DataFrame(lst_1, columns= ['Model', 'Accuracy', 'K-Fold Mean Accuracy', 'Std. Deviation', 'ROC AUC', 'Precision', 'Recall', 'F1'])"
   ]
  },
  {
   "cell_type": "code",
   "execution_count": 33,
   "metadata": {},
   "outputs": [],
   "source": [
    "df.sort_values(by= ['Accuracy', 'K-Fold Mean Accuracy'], inplace= True, ascending= False)"
   ]
  },
  {
   "cell_type": "code",
   "execution_count": 34,
   "metadata": {},
   "outputs": [
    {
     "data": {
      "text/html": [
       "<div>\n",
       "<style scoped>\n",
       "    .dataframe tbody tr th:only-of-type {\n",
       "        vertical-align: middle;\n",
       "    }\n",
       "\n",
       "    .dataframe tbody tr th {\n",
       "        vertical-align: top;\n",
       "    }\n",
       "\n",
       "    .dataframe thead th {\n",
       "        text-align: right;\n",
       "    }\n",
       "</style>\n",
       "<table border=\"1\" class=\"dataframe\">\n",
       "  <thead>\n",
       "    <tr style=\"text-align: right;\">\n",
       "      <th></th>\n",
       "      <th>Model</th>\n",
       "      <th>Accuracy</th>\n",
       "      <th>K-Fold Mean Accuracy</th>\n",
       "      <th>Std. Deviation</th>\n",
       "      <th>ROC AUC</th>\n",
       "      <th>Precision</th>\n",
       "      <th>Recall</th>\n",
       "      <th>F1</th>\n",
       "    </tr>\n",
       "  </thead>\n",
       "  <tbody>\n",
       "    <tr>\n",
       "      <th>0</th>\n",
       "      <td>SVM</td>\n",
       "      <td>95.062541</td>\n",
       "      <td>95.087610</td>\n",
       "      <td>0.134957</td>\n",
       "      <td>0.500000</td>\n",
       "      <td>0.000000</td>\n",
       "      <td>0.000000</td>\n",
       "      <td>0.000000</td>\n",
       "    </tr>\n",
       "    <tr>\n",
       "      <th>4</th>\n",
       "      <td>Random Forest</td>\n",
       "      <td>94.996708</td>\n",
       "      <td>94.777353</td>\n",
       "      <td>0.436738</td>\n",
       "      <td>0.518615</td>\n",
       "      <td>0.428571</td>\n",
       "      <td>0.040000</td>\n",
       "      <td>0.073171</td>\n",
       "    </tr>\n",
       "    <tr>\n",
       "      <th>1</th>\n",
       "      <td>KNeighbors</td>\n",
       "      <td>94.996708</td>\n",
       "      <td>94.579693</td>\n",
       "      <td>0.428838</td>\n",
       "      <td>0.524935</td>\n",
       "      <td>0.444444</td>\n",
       "      <td>0.053333</td>\n",
       "      <td>0.095238</td>\n",
       "    </tr>\n",
       "    <tr>\n",
       "      <th>3</th>\n",
       "      <td>Decision Tree</td>\n",
       "      <td>92.297564</td>\n",
       "      <td>90.401130</td>\n",
       "      <td>1.068932</td>\n",
       "      <td>0.554982</td>\n",
       "      <td>0.171875</td>\n",
       "      <td>0.146667</td>\n",
       "      <td>0.158273</td>\n",
       "    </tr>\n",
       "    <tr>\n",
       "      <th>2</th>\n",
       "      <td>GaussianNB</td>\n",
       "      <td>83.475971</td>\n",
       "      <td>82.467494</td>\n",
       "      <td>1.866575</td>\n",
       "      <td>0.666593</td>\n",
       "      <td>0.145161</td>\n",
       "      <td>0.480000</td>\n",
       "      <td>0.222910</td>\n",
       "    </tr>\n",
       "  </tbody>\n",
       "</table>\n",
       "</div>"
      ],
      "text/plain": [
       "           Model   Accuracy  K-Fold Mean Accuracy  Std. Deviation   ROC AUC  \\\n",
       "0            SVM  95.062541             95.087610        0.134957  0.500000   \n",
       "4  Random Forest  94.996708             94.777353        0.436738  0.518615   \n",
       "1     KNeighbors  94.996708             94.579693        0.428838  0.524935   \n",
       "3  Decision Tree  92.297564             90.401130        1.068932  0.554982   \n",
       "2     GaussianNB  83.475971             82.467494        1.866575  0.666593   \n",
       "\n",
       "   Precision    Recall        F1  \n",
       "0   0.000000  0.000000  0.000000  \n",
       "4   0.428571  0.040000  0.073171  \n",
       "1   0.444444  0.053333  0.095238  \n",
       "3   0.171875  0.146667  0.158273  \n",
       "2   0.145161  0.480000  0.222910  "
      ]
     },
     "execution_count": 34,
     "metadata": {},
     "output_type": "execute_result"
    }
   ],
   "source": [
    "df"
   ]
  },
  {
   "cell_type": "markdown",
   "metadata": {},
   "source": [
    "### KNN Hyperparameter Tuning <a name=\"KNN\"></a>"
   ]
  },
  {
   "cell_type": "code",
   "execution_count": 35,
   "metadata": {},
   "outputs": [
    {
     "name": "stdout",
     "output_type": "stream",
     "text": [
      "KNeighborsClassifier(algorithm='auto', leaf_size=30, metric='minkowski',\n",
      "                     metric_params=None, n_jobs=None, n_neighbors=5, p=2,\n",
      "                     weights='uniform'):\n",
      "Best Accuracy : 95.09%\n",
      "Best Parameters :  {'metric': 'euclidean', 'n_neighbors': 8}\n",
      "\n",
      "----------------\n",
      "\n"
     ]
    }
   ],
   "source": [
    "## Tuning the models\n",
    "from sklearn.model_selection import GridSearchCV\n",
    "params_knn = {'n_neighbors':[5,7,8,10], 'metric': ['euclidean', 'manhattan', 'minkowski']}\n",
    "grid_knn = GridSearchCV(estimator=KNeighborsClassifier(),param_grid = params_knn, scoring = 'accuracy',cv = 10)\n",
    "grid_knn.fit(D_train_fs, target_train)\n",
    "best_accuracy = grid_knn.best_score_\n",
    "best_param = grid_knn.best_params_\n",
    "print('{}:\\nBest Accuracy : {:.2f}%'.format(KNeighborsClassifier(),best_accuracy*100))\n",
    "print('Best Parameters : ',best_param)\n",
    "print('')\n",
    "print('----------------')\n",
    "print('')\n"
   ]
  },
  {
   "cell_type": "code",
   "execution_count": 36,
   "metadata": {},
   "outputs": [
    {
     "data": {
      "text/html": [
       "<div>\n",
       "<style scoped>\n",
       "    .dataframe tbody tr th:only-of-type {\n",
       "        vertical-align: middle;\n",
       "    }\n",
       "\n",
       "    .dataframe tbody tr th {\n",
       "        vertical-align: top;\n",
       "    }\n",
       "\n",
       "    .dataframe thead th {\n",
       "        text-align: right;\n",
       "    }\n",
       "</style>\n",
       "<table border=\"1\" class=\"dataframe\">\n",
       "  <thead>\n",
       "    <tr style=\"text-align: right;\">\n",
       "      <th></th>\n",
       "      <th>metric</th>\n",
       "      <th>n_neighbors</th>\n",
       "      <th>test_score</th>\n",
       "    </tr>\n",
       "  </thead>\n",
       "  <tbody>\n",
       "    <tr>\n",
       "      <th>0</th>\n",
       "      <td>euclidean</td>\n",
       "      <td>5</td>\n",
       "      <td>0.945797</td>\n",
       "    </tr>\n",
       "    <tr>\n",
       "      <th>1</th>\n",
       "      <td>euclidean</td>\n",
       "      <td>7</td>\n",
       "      <td>0.950030</td>\n",
       "    </tr>\n",
       "    <tr>\n",
       "      <th>2</th>\n",
       "      <td>euclidean</td>\n",
       "      <td>8</td>\n",
       "      <td>0.950876</td>\n",
       "    </tr>\n",
       "    <tr>\n",
       "      <th>3</th>\n",
       "      <td>euclidean</td>\n",
       "      <td>10</td>\n",
       "      <td>0.950876</td>\n",
       "    </tr>\n",
       "    <tr>\n",
       "      <th>4</th>\n",
       "      <td>manhattan</td>\n",
       "      <td>5</td>\n",
       "      <td>0.946928</td>\n",
       "    </tr>\n",
       "    <tr>\n",
       "      <th>5</th>\n",
       "      <td>manhattan</td>\n",
       "      <td>7</td>\n",
       "      <td>0.950312</td>\n",
       "    </tr>\n",
       "    <tr>\n",
       "      <th>6</th>\n",
       "      <td>manhattan</td>\n",
       "      <td>8</td>\n",
       "      <td>0.950876</td>\n",
       "    </tr>\n",
       "    <tr>\n",
       "      <th>7</th>\n",
       "      <td>manhattan</td>\n",
       "      <td>10</td>\n",
       "      <td>0.950876</td>\n",
       "    </tr>\n",
       "    <tr>\n",
       "      <th>8</th>\n",
       "      <td>minkowski</td>\n",
       "      <td>5</td>\n",
       "      <td>0.945797</td>\n",
       "    </tr>\n",
       "    <tr>\n",
       "      <th>9</th>\n",
       "      <td>minkowski</td>\n",
       "      <td>7</td>\n",
       "      <td>0.950030</td>\n",
       "    </tr>\n",
       "    <tr>\n",
       "      <th>10</th>\n",
       "      <td>minkowski</td>\n",
       "      <td>8</td>\n",
       "      <td>0.950876</td>\n",
       "    </tr>\n",
       "    <tr>\n",
       "      <th>11</th>\n",
       "      <td>minkowski</td>\n",
       "      <td>10</td>\n",
       "      <td>0.950876</td>\n",
       "    </tr>\n",
       "  </tbody>\n",
       "</table>\n",
       "</div>"
      ],
      "text/plain": [
       "       metric  n_neighbors  test_score\n",
       "0   euclidean            5    0.945797\n",
       "1   euclidean            7    0.950030\n",
       "2   euclidean            8    0.950876\n",
       "3   euclidean           10    0.950876\n",
       "4   manhattan            5    0.946928\n",
       "5   manhattan            7    0.950312\n",
       "6   manhattan            8    0.950876\n",
       "7   manhattan           10    0.950876\n",
       "8   minkowski            5    0.945797\n",
       "9   minkowski            7    0.950030\n",
       "10  minkowski            8    0.950876\n",
       "11  minkowski           10    0.950876"
      ]
     },
     "execution_count": 36,
     "metadata": {},
     "output_type": "execute_result"
    }
   ],
   "source": [
    "result_KNN = pd.DataFrame(grid_knn.cv_results_['params'])\n",
    "result_KNN['test_score'] = grid_knn.cv_results_['mean_test_score']\n",
    "\n",
    "result_KNN"
   ]
  },
  {
   "cell_type": "code",
   "execution_count": 37,
   "metadata": {},
   "outputs": [
    {
     "name": "stdout",
     "output_type": "stream",
     "text": [
      "Values for Euclidean and Minkowski are same, so only one is being shown in the graph\n"
     ]
    },
    {
     "data": {
      "image/png": "[encoded data removed]",
      "text/plain": [
       "<Figure size 432x288 with 1 Axes>"
      ]
     },
     "metadata": {
      "image/png": {
       "height": 281,
       "width": 400
      }
     },
     "output_type": "display_data"
    }
   ],
   "source": [
    "import matplotlib.pyplot as plt\n",
    "plt.style.use(\"ggplot\")\n",
    "\n",
    "for i in result_KNN['metric'].unique():\n",
    "    temp = result_KNN[result_KNN['metric'] == i]\n",
    "    plt.plot(temp['n_neighbors'], temp['test_score'], marker = '.', label = i)\n",
    "\n",
    "print(\"Values for Euclidean and Minkowski are same, so only one is being shown in the graph\")    \n",
    "plt.legend()\n",
    "plt.xlabel('Number of Neighbors')\n",
    "plt.ylabel(\"Mean CV Score\")\n",
    "plt.title(\"KNN Performance Comparison\")\n",
    "plt.show()"
   ]
  },
  {
   "cell_type": "markdown",
   "metadata": {},
   "source": [
    "### Decision Tree Hyperparameter Tuning <a name=\"DT\"></a>"
   ]
  },
  {
   "cell_type": "code",
   "execution_count": 38,
   "metadata": {},
   "outputs": [
    {
     "name": "stdout",
     "output_type": "stream",
     "text": [
      "DecisionTreeClassifier(ccp_alpha=0.0, class_weight=None, criterion='gini',\n",
      "                       max_depth=None, max_features=None, max_leaf_nodes=None,\n",
      "                       min_impurity_decrease=0.0, min_impurity_split=None,\n",
      "                       min_samples_leaf=1, min_samples_split=2,\n",
      "                       min_weight_fraction_leaf=0.0, presort='deprecated',\n",
      "                       random_state=None, splitter='best'):\n",
      "Best Accuracy : 95.09%\n",
      "Best Parameters :  {'criterion': 'gini', 'max_depth': 1, 'min_samples_split': 2, 'random_state': 0}\n",
      "\n",
      "----------------\n",
      "\n"
     ]
    }
   ],
   "source": [
    "# Decision Tree\n",
    "params_dec = {'criterion':['gini','entropy'],'random_state':[0], 'max_depth': [1, 2, 3, 4, 5, 6, 7, 8],\n",
    "             'min_samples_split': [2, 3]}\n",
    "grid_dec = GridSearchCV(estimator=DecisionTreeClassifier(),param_grid = params_dec, scoring = 'accuracy',cv = 10)\n",
    "grid_dec.fit(D_train_fs, target_train)\n",
    "best_accuracy = grid_dec.best_score_\n",
    "best_param = grid_dec.best_params_\n",
    "print('{}:\\nBest Accuracy : {:.2f}%'.format(DecisionTreeClassifier(),best_accuracy*100))\n",
    "print('Best Parameters : ',best_param)\n",
    "print('')\n",
    "print('----------------')\n",
    "print('')\n"
   ]
  },
  {
   "cell_type": "code",
   "execution_count": 39,
   "metadata": {},
   "outputs": [
    {
     "data": {
      "text/html": [
       "<div>\n",
       "<style scoped>\n",
       "    .dataframe tbody tr th:only-of-type {\n",
       "        vertical-align: middle;\n",
       "    }\n",
       "\n",
       "    .dataframe tbody tr th {\n",
       "        vertical-align: top;\n",
       "    }\n",
       "\n",
       "    .dataframe thead th {\n",
       "        text-align: right;\n",
       "    }\n",
       "</style>\n",
       "<table border=\"1\" class=\"dataframe\">\n",
       "  <thead>\n",
       "    <tr style=\"text-align: right;\">\n",
       "      <th></th>\n",
       "      <th>criterion</th>\n",
       "      <th>max_depth</th>\n",
       "      <th>min_samples_split</th>\n",
       "      <th>random_state</th>\n",
       "      <th>test_score</th>\n",
       "    </tr>\n",
       "  </thead>\n",
       "  <tbody>\n",
       "    <tr>\n",
       "      <th>0</th>\n",
       "      <td>gini</td>\n",
       "      <td>1</td>\n",
       "      <td>2</td>\n",
       "      <td>0</td>\n",
       "      <td>0.950876</td>\n",
       "    </tr>\n",
       "    <tr>\n",
       "      <th>1</th>\n",
       "      <td>gini</td>\n",
       "      <td>1</td>\n",
       "      <td>3</td>\n",
       "      <td>0</td>\n",
       "      <td>0.950876</td>\n",
       "    </tr>\n",
       "    <tr>\n",
       "      <th>2</th>\n",
       "      <td>gini</td>\n",
       "      <td>2</td>\n",
       "      <td>2</td>\n",
       "      <td>0</td>\n",
       "      <td>0.950876</td>\n",
       "    </tr>\n",
       "    <tr>\n",
       "      <th>3</th>\n",
       "      <td>gini</td>\n",
       "      <td>2</td>\n",
       "      <td>3</td>\n",
       "      <td>0</td>\n",
       "      <td>0.950876</td>\n",
       "    </tr>\n",
       "    <tr>\n",
       "      <th>4</th>\n",
       "      <td>gini</td>\n",
       "      <td>3</td>\n",
       "      <td>2</td>\n",
       "      <td>0</td>\n",
       "      <td>0.950028</td>\n",
       "    </tr>\n",
       "    <tr>\n",
       "      <th>5</th>\n",
       "      <td>gini</td>\n",
       "      <td>3</td>\n",
       "      <td>3</td>\n",
       "      <td>0</td>\n",
       "      <td>0.950028</td>\n",
       "    </tr>\n",
       "    <tr>\n",
       "      <th>6</th>\n",
       "      <td>gini</td>\n",
       "      <td>4</td>\n",
       "      <td>2</td>\n",
       "      <td>0</td>\n",
       "      <td>0.947486</td>\n",
       "    </tr>\n",
       "    <tr>\n",
       "      <th>7</th>\n",
       "      <td>gini</td>\n",
       "      <td>4</td>\n",
       "      <td>3</td>\n",
       "      <td>0</td>\n",
       "      <td>0.947486</td>\n",
       "    </tr>\n",
       "    <tr>\n",
       "      <th>8</th>\n",
       "      <td>gini</td>\n",
       "      <td>5</td>\n",
       "      <td>2</td>\n",
       "      <td>0</td>\n",
       "      <td>0.946357</td>\n",
       "    </tr>\n",
       "    <tr>\n",
       "      <th>9</th>\n",
       "      <td>gini</td>\n",
       "      <td>5</td>\n",
       "      <td>3</td>\n",
       "      <td>0</td>\n",
       "      <td>0.946357</td>\n",
       "    </tr>\n",
       "    <tr>\n",
       "      <th>10</th>\n",
       "      <td>gini</td>\n",
       "      <td>6</td>\n",
       "      <td>2</td>\n",
       "      <td>0</td>\n",
       "      <td>0.938449</td>\n",
       "    </tr>\n",
       "    <tr>\n",
       "      <th>11</th>\n",
       "      <td>gini</td>\n",
       "      <td>6</td>\n",
       "      <td>3</td>\n",
       "      <td>0</td>\n",
       "      <td>0.938449</td>\n",
       "    </tr>\n",
       "    <tr>\n",
       "      <th>12</th>\n",
       "      <td>gini</td>\n",
       "      <td>7</td>\n",
       "      <td>2</td>\n",
       "      <td>0</td>\n",
       "      <td>0.937601</td>\n",
       "    </tr>\n",
       "    <tr>\n",
       "      <th>13</th>\n",
       "      <td>gini</td>\n",
       "      <td>7</td>\n",
       "      <td>3</td>\n",
       "      <td>0</td>\n",
       "      <td>0.937037</td>\n",
       "    </tr>\n",
       "    <tr>\n",
       "      <th>14</th>\n",
       "      <td>gini</td>\n",
       "      <td>8</td>\n",
       "      <td>2</td>\n",
       "      <td>0</td>\n",
       "      <td>0.933364</td>\n",
       "    </tr>\n",
       "    <tr>\n",
       "      <th>15</th>\n",
       "      <td>gini</td>\n",
       "      <td>8</td>\n",
       "      <td>3</td>\n",
       "      <td>0</td>\n",
       "      <td>0.934778</td>\n",
       "    </tr>\n",
       "    <tr>\n",
       "      <th>16</th>\n",
       "      <td>entropy</td>\n",
       "      <td>1</td>\n",
       "      <td>2</td>\n",
       "      <td>0</td>\n",
       "      <td>0.950876</td>\n",
       "    </tr>\n",
       "    <tr>\n",
       "      <th>17</th>\n",
       "      <td>entropy</td>\n",
       "      <td>1</td>\n",
       "      <td>3</td>\n",
       "      <td>0</td>\n",
       "      <td>0.950876</td>\n",
       "    </tr>\n",
       "    <tr>\n",
       "      <th>18</th>\n",
       "      <td>entropy</td>\n",
       "      <td>2</td>\n",
       "      <td>2</td>\n",
       "      <td>0</td>\n",
       "      <td>0.950876</td>\n",
       "    </tr>\n",
       "    <tr>\n",
       "      <th>19</th>\n",
       "      <td>entropy</td>\n",
       "      <td>2</td>\n",
       "      <td>3</td>\n",
       "      <td>0</td>\n",
       "      <td>0.950876</td>\n",
       "    </tr>\n",
       "    <tr>\n",
       "      <th>20</th>\n",
       "      <td>entropy</td>\n",
       "      <td>3</td>\n",
       "      <td>2</td>\n",
       "      <td>0</td>\n",
       "      <td>0.950594</td>\n",
       "    </tr>\n",
       "    <tr>\n",
       "      <th>21</th>\n",
       "      <td>entropy</td>\n",
       "      <td>3</td>\n",
       "      <td>3</td>\n",
       "      <td>0</td>\n",
       "      <td>0.950594</td>\n",
       "    </tr>\n",
       "    <tr>\n",
       "      <th>22</th>\n",
       "      <td>entropy</td>\n",
       "      <td>4</td>\n",
       "      <td>2</td>\n",
       "      <td>0</td>\n",
       "      <td>0.948335</td>\n",
       "    </tr>\n",
       "    <tr>\n",
       "      <th>23</th>\n",
       "      <td>entropy</td>\n",
       "      <td>4</td>\n",
       "      <td>3</td>\n",
       "      <td>0</td>\n",
       "      <td>0.948335</td>\n",
       "    </tr>\n",
       "    <tr>\n",
       "      <th>24</th>\n",
       "      <td>entropy</td>\n",
       "      <td>5</td>\n",
       "      <td>2</td>\n",
       "      <td>0</td>\n",
       "      <td>0.946359</td>\n",
       "    </tr>\n",
       "    <tr>\n",
       "      <th>25</th>\n",
       "      <td>entropy</td>\n",
       "      <td>5</td>\n",
       "      <td>3</td>\n",
       "      <td>0</td>\n",
       "      <td>0.946359</td>\n",
       "    </tr>\n",
       "    <tr>\n",
       "      <th>26</th>\n",
       "      <td>entropy</td>\n",
       "      <td>6</td>\n",
       "      <td>2</td>\n",
       "      <td>0</td>\n",
       "      <td>0.944381</td>\n",
       "    </tr>\n",
       "    <tr>\n",
       "      <th>27</th>\n",
       "      <td>entropy</td>\n",
       "      <td>6</td>\n",
       "      <td>3</td>\n",
       "      <td>0</td>\n",
       "      <td>0.944381</td>\n",
       "    </tr>\n",
       "    <tr>\n",
       "      <th>28</th>\n",
       "      <td>entropy</td>\n",
       "      <td>7</td>\n",
       "      <td>2</td>\n",
       "      <td>0</td>\n",
       "      <td>0.939018</td>\n",
       "    </tr>\n",
       "    <tr>\n",
       "      <th>29</th>\n",
       "      <td>entropy</td>\n",
       "      <td>7</td>\n",
       "      <td>3</td>\n",
       "      <td>0</td>\n",
       "      <td>0.938736</td>\n",
       "    </tr>\n",
       "    <tr>\n",
       "      <th>30</th>\n",
       "      <td>entropy</td>\n",
       "      <td>8</td>\n",
       "      <td>2</td>\n",
       "      <td>0</td>\n",
       "      <td>0.937040</td>\n",
       "    </tr>\n",
       "    <tr>\n",
       "      <th>31</th>\n",
       "      <td>entropy</td>\n",
       "      <td>8</td>\n",
       "      <td>3</td>\n",
       "      <td>0</td>\n",
       "      <td>0.936757</td>\n",
       "    </tr>\n",
       "  </tbody>\n",
       "</table>\n",
       "</div>"
      ],
      "text/plain": [
       "   criterion  max_depth  min_samples_split  random_state  test_score\n",
       "0       gini          1                  2             0    0.950876\n",
       "1       gini          1                  3             0    0.950876\n",
       "2       gini          2                  2             0    0.950876\n",
       "3       gini          2                  3             0    0.950876\n",
       "4       gini          3                  2             0    0.950028\n",
       "5       gini          3                  3             0    0.950028\n",
       "6       gini          4                  2             0    0.947486\n",
       "7       gini          4                  3             0    0.947486\n",
       "8       gini          5                  2             0    0.946357\n",
       "9       gini          5                  3             0    0.946357\n",
       "10      gini          6                  2             0    0.938449\n",
       "11      gini          6                  3             0    0.938449\n",
       "12      gini          7                  2             0    0.937601\n",
       "13      gini          7                  3             0    0.937037\n",
       "14      gini          8                  2             0    0.933364\n",
       "15      gini          8                  3             0    0.934778\n",
       "16   entropy          1                  2             0    0.950876\n",
       "17   entropy          1                  3             0    0.950876\n",
       "18   entropy          2                  2             0    0.950876\n",
       "19   entropy          2                  3             0    0.950876\n",
       "20   entropy          3                  2             0    0.950594\n",
       "21   entropy          3                  3             0    0.950594\n",
       "22   entropy          4                  2             0    0.948335\n",
       "23   entropy          4                  3             0    0.948335\n",
       "24   entropy          5                  2             0    0.946359\n",
       "25   entropy          5                  3             0    0.946359\n",
       "26   entropy          6                  2             0    0.944381\n",
       "27   entropy          6                  3             0    0.944381\n",
       "28   entropy          7                  2             0    0.939018\n",
       "29   entropy          7                  3             0    0.938736\n",
       "30   entropy          8                  2             0    0.937040\n",
       "31   entropy          8                  3             0    0.936757"
      ]
     },
     "execution_count": 39,
     "metadata": {},
     "output_type": "execute_result"
    }
   ],
   "source": [
    "result_dec = pd.DataFrame(grid_dec.cv_results_['params'])\n",
    "result_dec['test_score'] = grid_dec.cv_results_['mean_test_score']\n",
    "\n",
    "result_dec"
   ]
  },
  {
   "cell_type": "code",
   "execution_count": 40,
   "metadata": {},
   "outputs": [
    {
     "data": {
      "image/png": "[encoded data removed]",
      "text/plain": [
       "<Figure size 432x288 with 1 Axes>"
      ]
     },
     "metadata": {
      "image/png": {
       "height": 281,
       "width": 407
      }
     },
     "output_type": "display_data"
    }
   ],
   "source": [
    "for i in ['gini', 'entropy']:\n",
    "    temp = result_dec[result_dec['criterion'] == i]\n",
    "    temp_average = temp.groupby('max_depth').agg({'test_score': 'mean'})\n",
    "    plt.plot(temp_average, marker = '.', label = i)\n",
    "    \n",
    "    \n",
    "plt.legend()\n",
    "plt.xlabel('Max Depth')\n",
    "plt.ylabel(\"Mean CV Score\")\n",
    "plt.title(\"Decision Tree Performance Comparison\")\n",
    "plt.show()"
   ]
  },
  {
   "cell_type": "markdown",
   "metadata": {},
   "source": [
    "### Gaussian Naive Bayes Hyperparameter Tuning <a name=\"GB\"></a>"
   ]
  },
  {
   "cell_type": "code",
   "execution_count": 41,
   "metadata": {},
   "outputs": [
    {
     "name": "stdout",
     "output_type": "stream",
     "text": [
      "GaussianNB(priors=None, var_smoothing=1e-09):\n",
      "Best Accuracy : 81.02%\n",
      "Best Parameters :  {'var_smoothing': 0.001}\n",
      "\n",
      "----------------\n",
      "\n"
     ]
    }
   ],
   "source": [
    "# Gaussian Naive Bayes\n",
    "np.random.seed(999)\n",
    "params_GB = {'var_smoothing': np.logspace(1,-3, num=200)}\n",
    "grid_GB = GridSearchCV(estimator=GaussianNB(),param_grid = params_GB, scoring = 'roc_auc',cv = cv_method)\n",
    "grid_GB.fit(D_train_fs, target_train)\n",
    "best_accuracy = grid_GB.best_score_\n",
    "best_param = grid_GB.best_params_\n",
    "print('{}:\\nBest Accuracy : {:.2f}%'.format(GaussianNB(),best_accuracy*100))\n",
    "print('Best Parameters : ',best_param)\n",
    "print('')\n",
    "print('----------------')\n",
    "print('')"
   ]
  },
  {
   "cell_type": "code",
   "execution_count": 42,
   "metadata": {},
   "outputs": [],
   "source": [
    "results_GB = pd.DataFrame(grid_GB.cv_results_['params'])\n",
    "results_GB['test_score'] = grid_GB.cv_results_['mean_test_score']"
   ]
  },
  {
   "cell_type": "code",
   "execution_count": 43,
   "metadata": {},
   "outputs": [
    {
     "data": {
      "image/png": "[encoded data removed]",
      "text/plain": [
       "<Figure size 432x288 with 1 Axes>"
      ]
     },
     "metadata": {
      "image/png": {
       "height": 281,
       "width": 400
      }
     },
     "output_type": "display_data"
    }
   ],
   "source": [
    "plt.plot(results_GB['var_smoothing'], results_GB['test_score'], marker = '.')    \n",
    "plt.xlabel('Var. Smoothing')\n",
    "plt.ylabel(\"Mean CV Score\")\n",
    "plt.title(\"NB Performance Comparison\")\n",
    "plt.show()"
   ]
  },
  {
   "cell_type": "markdown",
   "metadata": {},
   "source": [
    "### Support Vector Machines Hyperparameter Tuning <a name=\"SVM\"></a>"
   ]
  },
  {
   "cell_type": "code",
   "execution_count": 44,
   "metadata": {},
   "outputs": [
    {
     "name": "stdout",
     "output_type": "stream",
     "text": [
      "SVC(C=1.0, break_ties=False, cache_size=200, class_weight=None, coef0=0.0,\n",
      "    decision_function_shape='ovr', degree=3, gamma='scale', kernel='rbf',\n",
      "    max_iter=-1, probability=False, random_state=None, shrinking=True,\n",
      "    tol=0.001, verbose=False):\n",
      "Best Accuracy : 69.01%\n",
      "Best Parameters :  {'C': 0.25, 'gamma': 0.001, 'kernel': 'rbf', 'random_state': 0}\n",
      "\n",
      "----------------\n",
      "\n"
     ]
    }
   ],
   "source": [
    "# Support Vector Machines\n",
    "params_SVM = {'C':[0.25,0.5,0.75,1],'kernel':['linear', 'rbf'],'random_state':[0], 'gamma': [1, 0.1, 0.01, 0.001, 0.0001]}\n",
    "grid_SVM = GridSearchCV(estimator=SVC(random_state=999),param_grid = params_SVM, scoring = 'roc_auc',cv = cv_method)\n",
    "grid_SVM.fit(D_train_fs, target_train)\n",
    "best_accuracy = grid_SVM.best_score_\n",
    "best_param = grid_SVM.best_params_\n",
    "print('{}:\\nBest Accuracy : {:.2f}%'.format(SVC(),best_accuracy*100))\n",
    "print('Best Parameters : ',best_param)\n",
    "print('')\n",
    "print('----------------')\n",
    "print('')"
   ]
  },
  {
   "cell_type": "markdown",
   "metadata": {},
   "source": [
    "### Random Forest Hyperparameter Tuning <a name=\"RF\"></a>"
   ]
  },
  {
   "cell_type": "code",
   "execution_count": 45,
   "metadata": {},
   "outputs": [
    {
     "name": "stdout",
     "output_type": "stream",
     "text": [
      "RandomForestClassifier(bootstrap=True, ccp_alpha=0.0, class_weight=None,\n",
      "                       criterion='gini', max_depth=None, max_features='auto',\n",
      "                       max_leaf_nodes=None, max_samples=None,\n",
      "                       min_impurity_decrease=0.0, min_impurity_split=None,\n",
      "                       min_samples_leaf=1, min_samples_split=2,\n",
      "                       min_weight_fraction_leaf=0.0, n_estimators=100,\n",
      "                       n_jobs=None, oob_score=False, random_state=None,\n",
      "                       verbose=0, warm_start=False):\n",
      "Best Accuracy : 84.16%\n",
      "Best Parameters :  {'criterion': 'entropy', 'max_depth': 5, 'n_estimators': 200, 'random_state': 0}\n",
      "\n",
      "----------------\n",
      "\n"
     ]
    }
   ],
   "source": [
    "# Random forest\n",
    "params_RF = {'n_estimators':[100,150,200],'criterion':['gini','entropy'],'random_state':[0],'max_depth': [5, 7, 10, 12]}\n",
    "grid_RF = GridSearchCV(estimator=RandomForestClassifier(random_state=999),param_grid = params_RF, scoring = 'roc_auc',cv = cv_method)\n",
    "grid_RF.fit(D_train_fs, target_train)\n",
    "best_accuracy = grid_RF.best_score_\n",
    "best_param = grid_RF.best_params_\n",
    "print('{}:\\nBest Accuracy : {:.2f}%'.format(RandomForestClassifier(),best_accuracy*100))\n",
    "print('Best Parameters : ',best_param)\n",
    "print('')\n",
    "print('----------------')\n",
    "print('')"
   ]
  },
  {
   "cell_type": "code",
   "execution_count": 46,
   "metadata": {},
   "outputs": [
    {
     "data": {
      "text/plain": [
       "Index(['criterion', 'max_depth', 'n_estimators', 'random_state', 'test_score'], dtype='object')"
      ]
     },
     "execution_count": 46,
     "metadata": {},
     "output_type": "execute_result"
    }
   ],
   "source": [
    "results_RF = pd.DataFrame(grid_RF.cv_results_['params'])\n",
    "results_RF['test_score'] = grid_RF.cv_results_['mean_test_score']\n",
    "results_RF.columns"
   ]
  },
  {
   "cell_type": "code",
   "execution_count": 47,
   "metadata": {},
   "outputs": [
    {
     "data": {
      "image/png": "[encoded data removed]",
      "text/plain": [
       "<Figure size 432x288 with 1 Axes>"
      ]
     },
     "metadata": {
      "image/png": {
       "height": 281,
       "width": 400
      }
     },
     "output_type": "display_data"
    }
   ],
   "source": [
    "for i in results_RF['n_estimators'].unique():\n",
    "    temp = results_RF[results_RF['n_estimators'] == i]\n",
    "    plt.plot(temp['max_depth'], temp['test_score'], marker = '.', label = 'estimators: ' + str(i))\n",
    "    \n",
    "plt.legend()\n",
    "plt.xlabel('Max Depth')\n",
    "plt.ylabel(\"Mean CV Score\")\n",
    "plt.title(\"Random Forest Performance Comparison\")\n",
    "plt.show()"
   ]
  },
  {
   "cell_type": "markdown",
   "metadata": {},
   "source": [
    "### Best Scores Summary <a name=\"BSsummary\"></a>"
   ]
  },
  {
   "cell_type": "code",
   "execution_count": 48,
   "metadata": {},
   "outputs": [
    {
     "name": "stdout",
     "output_type": "stream",
     "text": [
      "KNN: 0.951\n",
      "Decision Tree: 0.951\n",
      "Gaussian Naive Bayes: 0.81\n",
      "Support Vector Machines: 0.69\n",
      "Random Forest: 0.842\n"
     ]
    }
   ],
   "source": [
    "# Best Scores Comparison\n",
    "print('KNN:', grid_knn.best_score_.round(3))\n",
    "print('Decision Tree:', grid_dec.best_score_.round(3))\n",
    "print('Gaussian Naive Bayes:', grid_GB.best_score_.round(3))\n",
    "print('Support Vector Machines:', grid_SVM.best_score_.round(3))\n",
    "print('Random Forest:', grid_RF.best_score_.round(3))"
   ]
  },
  {
   "cell_type": "markdown",
   "metadata": {},
   "source": [
    "## Model Comparison <a name=\"compare\"></a>"
   ]
  },
  {
   "cell_type": "markdown",
   "metadata": {},
   "source": [
    "### Area Under the Curve <a name=\"area\"></a>\n",
    "\n",
    "There were no significant differences between Gaussian Naive Bayes (0.79), Decision Tree (0.81) & Random Forest (0.83) models. Moreover, there was significant difference between K-Nearest Neighbors (0.68) and Support Vector Machine model (0.51). There was also substantial difference between the top 3 and bottom 2 models. This suggests that three models: Gaussian Naive Bayes (0.79), Decision Tree (0.81) & Random Forest (0.83) performed better compared to the K-Nearest Neigbors (0.68) and Support Vector Machine model (0.51). Additionally, we can infer from the results that the best performing model is Random Forest among all other models as it averages the Decision Tree predictions reducing the bias errors and limits overfitting."
   ]
  },
  {
   "cell_type": "code",
   "execution_count": 49,
   "metadata": {},
   "outputs": [
    {
     "data": {
      "text/plain": [
       "0.6850379293240285"
      ]
     },
     "execution_count": 49,
     "metadata": {},
     "output_type": "execute_result"
    }
   ],
   "source": [
    "# Model Comparison\n",
    "cv_method_ttest = StratifiedKFold(n_splits=10, random_state=999)\n",
    "\n",
    "cv_results_KNN = cross_val_score(estimator=grid_knn.best_estimator_,\n",
    "                                 X=D_test_fs,\n",
    "                                 y=target_test, \n",
    "                                 cv=cv_method_ttest, \n",
    "                                 n_jobs=-2,\n",
    "                                 scoring='roc_auc')\n",
    "cv_results_KNN.mean()"
   ]
  },
  {
   "cell_type": "code",
   "execution_count": 50,
   "metadata": {},
   "outputs": [
    {
     "data": {
      "text/plain": [
       "0.7067429529282979"
      ]
     },
     "execution_count": 50,
     "metadata": {},
     "output_type": "execute_result"
    }
   ],
   "source": [
    "cv_results_DT = cross_val_score(estimator=grid_dec.best_estimator_,\n",
    "                                X=D_test_fs,\n",
    "                                y=target_test, \n",
    "                                cv=cv_method_ttest, \n",
    "                                n_jobs=-2,\n",
    "                                scoring='roc_auc')\n",
    "cv_results_DT.mean()"
   ]
  },
  {
   "cell_type": "code",
   "execution_count": 51,
   "metadata": {},
   "outputs": [
    {
     "data": {
      "text/plain": [
       "0.7683813970990695"
      ]
     },
     "execution_count": 51,
     "metadata": {},
     "output_type": "execute_result"
    }
   ],
   "source": [
    "from sklearn.preprocessing import PowerTransformer\n",
    "\n",
    "D_test_transformed_fs = PowerTransformer().fit_transform(D_test_fs)\n",
    "\n",
    "cv_results_GB = cross_val_score(estimator=grid_GB.best_estimator_,\n",
    "                                X=D_test_transformed_fs,\n",
    "                                y=target_test, \n",
    "                                cv=cv_method_ttest, \n",
    "                                n_jobs=-2,\n",
    "                                scoring='roc_auc')\n",
    "cv_results_GB.mean()"
   ]
  },
  {
   "cell_type": "code",
   "execution_count": 52,
   "metadata": {},
   "outputs": [
    {
     "data": {
      "text/plain": [
       "0.5093749144772852"
      ]
     },
     "execution_count": 52,
     "metadata": {},
     "output_type": "execute_result"
    }
   ],
   "source": [
    "cv_results_SVM = cross_val_score(estimator=grid_SVM.best_estimator_,\n",
    "                                X=D_test_fs,\n",
    "                                y=target_test, \n",
    "                                cv=cv_method_ttest, \n",
    "                                n_jobs=-2,\n",
    "                                scoring='roc_auc')\n",
    "cv_results_SVM.mean()"
   ]
  },
  {
   "cell_type": "code",
   "execution_count": 53,
   "metadata": {},
   "outputs": [
    {
     "data": {
      "text/plain": [
       "0.8309090209359604"
      ]
     },
     "execution_count": 53,
     "metadata": {},
     "output_type": "execute_result"
    }
   ],
   "source": [
    "cv_results_RF = cross_val_score(estimator=grid_RF.best_estimator_,\n",
    "                                X=D_test_fs,\n",
    "                                y=target_test, \n",
    "                                cv=cv_method_ttest, \n",
    "                                n_jobs=-2,\n",
    "                                scoring='roc_auc')\n",
    "cv_results_RF.mean()"
   ]
  },
  {
   "cell_type": "markdown",
   "metadata": {},
   "source": [
    "### Paired T-Test Comparison <a name=\"pairedttest\"></a>"
   ]
  },
  {
   "cell_type": "code",
   "execution_count": 54,
   "metadata": {},
   "outputs": [
    {
     "name": "stdout",
     "output_type": "stream",
     "text": [
      "Ttest_relResult(statistic=-0.4407131627310027, pvalue=0.6698165495186141)\n",
      "Ttest_relResult(statistic=-2.365848019449072, pvalue=0.04219508681670642)\n",
      "Ttest_relResult(statistic=-1.4529238776403446, pvalue=0.1802034370059071)\n",
      "Ttest_relResult(statistic=4.107286491732054, pvalue=0.0026477205524464606)\n",
      "Ttest_relResult(statistic=6.118141499620948, pvalue=0.0001753458229762791)\n",
      "Ttest_relResult(statistic=4.053917482966989, pvalue=0.002868008598164176)\n",
      "Ttest_relResult(statistic=1.9291096584160048, pvalue=0.08579486768302913)\n",
      "Ttest_relResult(statistic=-2.4093054442681314, pvalue=0.03929374850417946)\n",
      "Ttest_relResult(statistic=-2.8698484696021085, pvalue=0.018481261926710693)\n",
      "Ttest_relResult(statistic=-4.053747695138379, pvalue=0.002868739710719576)\n"
     ]
    }
   ],
   "source": [
    "# Paired t-test\n",
    "from scipy import stats\n",
    "\n",
    "print(stats.ttest_rel(cv_results_KNN, cv_results_DT))\n",
    "print(stats.ttest_rel(cv_results_KNN, cv_results_GB))\n",
    "print(stats.ttest_rel(cv_results_DT, cv_results_GB))\n",
    "print(stats.ttest_rel(cv_results_RF, cv_results_SVM))\n",
    "print(stats.ttest_rel(cv_results_RF, cv_results_DT))\n",
    "print(stats.ttest_rel(cv_results_RF, cv_results_KNN))\n",
    "print(stats.ttest_rel(cv_results_RF, cv_results_GB))\n",
    "print(stats.ttest_rel(cv_results_SVM, cv_results_DT))\n",
    "print(stats.ttest_rel(cv_results_SVM, cv_results_KNN))\n",
    "print(stats.ttest_rel(cv_results_SVM, cv_results_GB))"
   ]
  },
  {
   "cell_type": "markdown",
   "metadata": {},
   "source": [
    "### Classification Report: Accuracy, Precision, Recall, & F1 Score <a name=\"classification\"></a>\n",
    "\n",
    "In the Classification Report, it can be seen that the results are similar for all models except for Gaussian Naive Bays model. The support is identical in all models and the accuracy of Gaussian Naive Bayes model is a bit low in contrast with other models. The precision of all the models is a bit low compared to the Gaussian Naive Bayes model. The recall and f1-score of the Gaussian Bayes model have significant differences in comparison to the other models. Since the four models have same results, the best performer cannot be interpreted from the Classification Report and Confusion Matrix. "
   ]
  },
  {
   "cell_type": "code",
   "execution_count": 55,
   "metadata": {},
   "outputs": [],
   "source": [
    "# Classification report\n",
    "pred_KNN = grid_knn.predict(D_test_fs)\n",
    "D_test_fs_transformed = PowerTransformer().fit_transform(D_test_fs)\n",
    "pred_NB = grid_GB.predict(D_test_fs_transformed)\n",
    "pred_DT = grid_dec.predict(D_test_fs)\n",
    "pred_SVM = grid_SVM.predict(D_test_fs)\n",
    "pred_rf = grid_RF.predict(D_test_fs)"
   ]
  },
  {
   "cell_type": "code",
   "execution_count": 56,
   "metadata": {},
   "outputs": [
    {
     "name": "stdout",
     "output_type": "stream",
     "text": [
      "\n",
      "Classification Report for K-Nearest Neighbor\n",
      "              precision    recall  f1-score   support\n",
      "\n",
      "           0       0.95      1.00      0.98      1444\n",
      "           1       1.00      0.01      0.03        75\n",
      "\n",
      "    accuracy                           0.95      1519\n",
      "   macro avg       0.98      0.51      0.50      1519\n",
      "weighted avg       0.95      0.95      0.93      1519\n",
      "\n",
      "\n",
      "Classification Report for Naive Bayes\n",
      "              precision    recall  f1-score   support\n",
      "\n",
      "           0       0.96      0.87      0.91      1444\n",
      "           1       0.13      0.39      0.20        75\n",
      "\n",
      "    accuracy                           0.84      1519\n",
      "   macro avg       0.55      0.63      0.56      1519\n",
      "weighted avg       0.92      0.84      0.88      1519\n",
      "\n",
      "\n",
      "Classification Report for Decision Tree\n",
      "              precision    recall  f1-score   support\n",
      "\n",
      "           0       0.95      1.00      0.97      1444\n",
      "           1       0.00      0.00      0.00        75\n",
      "\n",
      "    accuracy                           0.95      1519\n",
      "   macro avg       0.48      0.50      0.49      1519\n",
      "weighted avg       0.90      0.95      0.93      1519\n",
      "\n",
      "\n",
      "Classification Report for Support Vector Machines\n",
      "              precision    recall  f1-score   support\n",
      "\n",
      "           0       0.95      1.00      0.97      1444\n",
      "           1       0.00      0.00      0.00        75\n",
      "\n",
      "    accuracy                           0.95      1519\n",
      "   macro avg       0.48      0.50      0.49      1519\n",
      "weighted avg       0.90      0.95      0.93      1519\n",
      "\n",
      "\n",
      "Classification Report for Random Forest\n",
      "              precision    recall  f1-score   support\n",
      "\n",
      "           0       0.95      1.00      0.97      1444\n",
      "           1       0.00      0.00      0.00        75\n",
      "\n",
      "    accuracy                           0.95      1519\n",
      "   macro avg       0.48      0.50      0.49      1519\n",
      "weighted avg       0.90      0.95      0.93      1519\n",
      "\n"
     ]
    }
   ],
   "source": [
    "print(\"\\nClassification Report for K-Nearest Neighbor\") \n",
    "print(metrics.classification_report(target_test, pred_KNN))\n",
    "print(\"\\nClassification Report for Naive Bayes\") \n",
    "print(metrics.classification_report(target_test, pred_NB))\n",
    "print(\"\\nClassification Report for Decision Tree\") \n",
    "print(metrics.classification_report(target_test, pred_DT))\n",
    "print(\"\\nClassification Report for Support Vector Machines\") \n",
    "print(metrics.classification_report(target_test, pred_SVM))\n",
    "print(\"\\nClassification Report for Random Forest\") \n",
    "print(metrics.classification_report(target_test, pred_rf))"
   ]
  },
  {
   "cell_type": "markdown",
   "metadata": {},
   "source": [
    "### Confusion Matrix <a name=\"confusion\"></a>"
   ]
  },
  {
   "cell_type": "code",
   "execution_count": 57,
   "metadata": {},
   "outputs": [
    {
     "name": "stdout",
     "output_type": "stream",
     "text": [
      "\n",
      "Confusion Matrix for K-Nearest Neighbor\n",
      "[[1444    0]\n",
      " [  74    1]]\n",
      "\n",
      "Confusion Matrix for Naive Bayes\n",
      "[[1253  191]\n",
      " [  46   29]]\n",
      "\n",
      "Confusion Matrix for Decision Tree\n",
      "[[1444    0]\n",
      " [  75    0]]\n",
      "\n",
      "Confusion Matrix for Support Vector Machines\n",
      "[[1444    0]\n",
      " [  75    0]]\n",
      "\n",
      "Confusion Matrix for Random Forest\n",
      "[[1444    0]\n",
      " [  75    0]]\n"
     ]
    }
   ],
   "source": [
    "# Confusion matrix\n",
    "print(\"\\nConfusion Matrix for K-Nearest Neighbor\") \n",
    "print(metrics.confusion_matrix(target_test, pred_KNN))\n",
    "print(\"\\nConfusion Matrix for Naive Bayes\") \n",
    "print(metrics.confusion_matrix(target_test, pred_NB))\n",
    "print(\"\\nConfusion Matrix for Decision Tree\") \n",
    "print(metrics.confusion_matrix(target_test, pred_DT))\n",
    "print(\"\\nConfusion Matrix for Support Vector Machines\") \n",
    "print(metrics.confusion_matrix(target_test, pred_SVM))\n",
    "print(\"\\nConfusion Matrix for Random Forest\") \n",
    "print(metrics.confusion_matrix(target_test, pred_rf))"
   ]
  },
  {
   "cell_type": "markdown",
   "metadata": {},
   "source": [
    "# Critique & Limitations <a name=\"critique\"></a>\n",
    "\n",
    "### Strengths\n",
    "One of the strengths for our approach is that we employed different feature selection approaches to find the best features. These features were consistent with the one's we found in the Phase 1 of this project. This proves that our analysis is on the right track. \n",
    "Moreover, with the right features in consideration we employed a range of different machine learning models which resulted in consistent results. We were able to find the best machine learning model for our particular dataset. The model found was consistent with the theoretical knowledge which provides further confidence in our approach.\n",
    "\n",
    "### Limitations\n",
    "One of the major limitations of our project is that our chosen dataset is highly undersampled which makes it difficult for the machine learning models to get higher predictive power. As we did not employ any method to oversample our dataset, the models selected may be biased. We could have used the oversampling technique such SMOTE but it is out of the scope of this course and it requires higher version of sci-kit which makes us unable to implement Gaussian Naive Bayes algorithm.\n",
    "\n",
    "Our approach focused more on the predictability performance rather than interpretability. We can further do an in-depth analysis in choosing the perfect hyperparameters.\n",
    "\n",
    "Also, we did not implement all the possible machine learning models like XGBoost which may yield in better results. So, there is a possibility that there may be some more suitable machine learning models out there."
   ]
  },
  {
   "cell_type": "markdown",
   "metadata": {},
   "source": [
    "# Summary & Conclusions <a name=\"conclusion\"></a>"
   ]
  },
  {
   "cell_type": "markdown",
   "metadata": {},
   "source": [
    "## Project Summary <a name=\"psummary\"></a>\n",
    "\n",
    "### Phase 1\n",
    "Exploratory data analysis was performed on stroke dataset. Firstly, we performed data preparation and cleaning in which we checked the data types of each attributes. We performed the sanity checks and then, checked for missing values. We handled those missing values by using mean technique. After this our data was ready for exploration and visualisation. Then, we observed various relationship between the variables and got more insights from our dataset.\n",
    "In this phase, we found out some major insights like - Old age people having hypertension or heart disease were seen to be suffering more by stroke than younger people, More number of females can be seen to have suffered by stroke as compared to males.\n",
    "\n",
    "### Phase 2\n",
    "In this Phase, we started off with preparing our dataset for modelling. First, we split our dataset into descriptive features that is data and our target feature as target. Then, we performed the one hot encoding of the categorical features and then, scaling of the numerical features.\n",
    "\n",
    "We then started finding the best features for our target prediction. We implemented the Full Set selection, F-Score selection and Random Forest selection. Out of which F-Score selection yielded in best results. The selected 10 features were in contrast with the features of importance in Phase 1.\n",
    "\n",
    "Now that we have done the feature selection, we proceeded with splitting our dataset into 70:30 train-test proportion for model fitting & tuning. We took the 10 best features we got from the f-score selection.\n",
    "\n",
    "Further, Hyper-Parameter-tuning of Support Vector Machine, K_Nearest Neighbors, Gaussian Naive Bayes, Decision Tree and Naive Bayes models were carried out. Grid Search method and AUC curve as a scoring metric were applied for all the models. Since the dataset was severely unbalanced, the AUC curve was employed which performs best on biased datasets and in ranking predictions. The optimal parameters were chosen from the models that produced the best results after iterating with a set of parameters.\n",
    "\n",
    "After all the analysis, we found out that Random Forest classifier outperformed all the other models. It outperformed decision tree as it averages the Decision Tree predictions reducing the bias errors and limits overfitting.\n",
    "The AUC suggests Random Forest (0.8309) performed better than others. Now, we got substantial evidence that Random Forest outperforms all the others.\n",
    "Then, we did the classification reports which gives a suitable evidence as well.\n",
    "Atlast, we did the confusion matrix.\n",
    "\n"
   ]
  },
  {
   "cell_type": "markdown",
   "metadata": {},
   "source": [
    "## Summary of Findings <a name=\"fsummary\"></a>\n",
    "\n",
    "We found that Random Forest classifier worked really well as compared to other models with 84.16%. Random forest classifier with 'entropy' criterion, 'max_depth' of 5, and 'n_estimators' equal to 200 with 10 best features selected by f-score selection produced highest cross-validated AUC score.\n",
    "Moreover, when it was tested with the unseen data we can see that Decision tree, Support vector machine and Random forest yield almost the same results. We got this evidence from the classification reports."
   ]
  },
  {
   "cell_type": "markdown",
   "metadata": {},
   "source": [
    "## Conclusions <a name=\"conclusions\"></a>\n",
    "\n",
    "Based on the results, we can conclude that the Random Forest works best on classified dataset. We compared the different metrics used and found AUC Curve works better than the other metrics. We can derive that the AUC Curve not only just balances curve for the skewed class distribution but also in feature ranking."
   ]
  },
  {
   "cell_type": "markdown",
   "metadata": {},
   "source": [
    "# References <a name=\"references\"></a>\n",
    "\n",
    "[1] Aksakalli, D. (2021). Feature Selection and Ranking in Machine Learning. Retrieved 02 June 2021, from https://www.featureranking.com/\n",
    "\n",
    "[2] Kaggle.com. 2021. Stroke Prediction Dataset. [online] Available at: <https://www.kaggle.com/fedesoriano/stroke-prediction-dataset> [Accessed 02 June 2021].\n"
   ]
  }
 ],
 "metadata": {
  "kernelspec": {
   "display_name": "Python 3",
   "language": "python",
   "name": "python3"
  },
  "language_info": {
   "codemirror_mode": {
    "name": "ipython",
    "version": 3
   },
   "file_extension": ".py",
   "mimetype": "text/x-python",
   "name": "python",
   "nbconvert_exporter": "python",
   "pygments_lexer": "ipython3",
   "version": "3.7.6"
  }
 },
 "nbformat": 4,
 "nbformat_minor": 4
}
